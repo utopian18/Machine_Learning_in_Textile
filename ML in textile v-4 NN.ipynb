{
 "cells": [
  {
   "cell_type": "code",
   "execution_count": 23,
   "id": "6750376b",
   "metadata": {},
   "outputs": [],
   "source": [
    "import numpy as np\n",
    "import pandas as pd"
   ]
  },
  {
   "cell_type": "code",
   "execution_count": 24,
   "id": "2710182c",
   "metadata": {},
   "outputs": [],
   "source": [
    "df = pd.read_csv('textile_rejection_prediction.csv')"
   ]
  },
  {
   "cell_type": "code",
   "execution_count": 25,
   "id": "22dcedb1",
   "metadata": {},
   "outputs": [
    {
     "data": {
      "text/html": [
       "<div>\n",
       "<style scoped>\n",
       "    .dataframe tbody tr th:only-of-type {\n",
       "        vertical-align: middle;\n",
       "    }\n",
       "\n",
       "    .dataframe tbody tr th {\n",
       "        vertical-align: top;\n",
       "    }\n",
       "\n",
       "    .dataframe thead th {\n",
       "        text-align: right;\n",
       "    }\n",
       "</style>\n",
       "<table border=\"1\" class=\"dataframe\">\n",
       "  <thead>\n",
       "    <tr style=\"text-align: right;\">\n",
       "      <th></th>\n",
       "      <th>Sl</th>\n",
       "      <th>lot_no.</th>\n",
       "      <th>warp_count</th>\n",
       "      <th>weft_count</th>\n",
       "      <th>epi</th>\n",
       "      <th>ppi</th>\n",
       "      <th>remark</th>\n",
       "      <th>F.Ord.(Yds)</th>\n",
       "      <th>Delivery</th>\n",
       "      <th>Req. Grey Qtv (Yds)</th>\n",
       "      <th>Shrin%</th>\n",
       "      <th>Req. Beam L(yds)</th>\n",
       "      <th>Recv. Beam L(Yds)</th>\n",
       "      <th>Deliverd Yds</th>\n",
       "      <th>Rej.Yds</th>\n",
       "      <th>Total Prod Yds</th>\n",
       "      <th>Short/Ex. Yds</th>\n",
       "      <th>Total loss%</th>\n",
       "    </tr>\n",
       "  </thead>\n",
       "  <tbody>\n",
       "    <tr>\n",
       "      <th>0</th>\n",
       "      <td>1</td>\n",
       "      <td>12207</td>\n",
       "      <td>40</td>\n",
       "      <td>40</td>\n",
       "      <td>110</td>\n",
       "      <td>80</td>\n",
       "      <td>double beam</td>\n",
       "      <td>31300</td>\n",
       "      <td>6.000360</td>\n",
       "      <td>33298</td>\n",
       "      <td>12.500542</td>\n",
       "      <td>38055.0928</td>\n",
       "      <td>38286.9360</td>\n",
       "      <td>34668</td>\n",
       "      <td>301.0</td>\n",
       "      <td>34969.0</td>\n",
       "      <td>1671.0</td>\n",
       "      <td>8.665974</td>\n",
       "    </tr>\n",
       "    <tr>\n",
       "      <th>1</th>\n",
       "      <td>2</td>\n",
       "      <td>12213</td>\n",
       "      <td>40</td>\n",
       "      <td>40</td>\n",
       "      <td>110</td>\n",
       "      <td>90</td>\n",
       "      <td>normal</td>\n",
       "      <td>54600</td>\n",
       "      <td>6.998927</td>\n",
       "      <td>58709</td>\n",
       "      <td>14.500689</td>\n",
       "      <td>68666.0504</td>\n",
       "      <td>69634.9800</td>\n",
       "      <td>59019</td>\n",
       "      <td>505.0</td>\n",
       "      <td>59524.0</td>\n",
       "      <td>815.0</td>\n",
       "      <td>14.519973</td>\n",
       "    </tr>\n",
       "    <tr>\n",
       "      <th>2</th>\n",
       "      <td>3</td>\n",
       "      <td>12313</td>\n",
       "      <td>40</td>\n",
       "      <td>40</td>\n",
       "      <td>110</td>\n",
       "      <td>90</td>\n",
       "      <td>normal</td>\n",
       "      <td>64715</td>\n",
       "      <td>6.999971</td>\n",
       "      <td>69586</td>\n",
       "      <td>14.499654</td>\n",
       "      <td>81386.8056</td>\n",
       "      <td>82556.9576</td>\n",
       "      <td>70613</td>\n",
       "      <td>341.0</td>\n",
       "      <td>70954.0</td>\n",
       "      <td>1368.0</td>\n",
       "      <td>14.054488</td>\n",
       "    </tr>\n",
       "    <tr>\n",
       "      <th>3</th>\n",
       "      <td>4</td>\n",
       "      <td>12315</td>\n",
       "      <td>40</td>\n",
       "      <td>40</td>\n",
       "      <td>110</td>\n",
       "      <td>90</td>\n",
       "      <td>normal</td>\n",
       "      <td>25500</td>\n",
       "      <td>6.998796</td>\n",
       "      <td>27419</td>\n",
       "      <td>14.502171</td>\n",
       "      <td>32069.8200</td>\n",
       "      <td>32353.0624</td>\n",
       "      <td>27820</td>\n",
       "      <td>0.0</td>\n",
       "      <td>27820.0</td>\n",
       "      <td>401.0</td>\n",
       "      <td>14.011231</td>\n",
       "    </tr>\n",
       "    <tr>\n",
       "      <th>4</th>\n",
       "      <td>5</td>\n",
       "      <td>12317</td>\n",
       "      <td>50</td>\n",
       "      <td>50</td>\n",
       "      <td>140</td>\n",
       "      <td>70</td>\n",
       "      <td>normal</td>\n",
       "      <td>20700</td>\n",
       "      <td>8.000000</td>\n",
       "      <td>22500</td>\n",
       "      <td>8.999734</td>\n",
       "      <td>24725.2024</td>\n",
       "      <td>24917.6760</td>\n",
       "      <td>22631</td>\n",
       "      <td>369.0</td>\n",
       "      <td>23000.0</td>\n",
       "      <td>500.0</td>\n",
       "      <td>7.696047</td>\n",
       "    </tr>\n",
       "  </tbody>\n",
       "</table>\n",
       "</div>"
      ],
      "text/plain": [
       "   Sl  lot_no.  warp_count  weft_count  epi  ppi       remark  F.Ord.(Yds)  \\\n",
       "0   1    12207          40          40  110   80  double beam        31300   \n",
       "1   2    12213          40          40  110   90       normal        54600   \n",
       "2   3    12313          40          40  110   90       normal        64715   \n",
       "3   4    12315          40          40  110   90       normal        25500   \n",
       "4   5    12317          50          50  140   70       normal        20700   \n",
       "\n",
       "   Delivery  Req. Grey Qtv (Yds)     Shrin%  Req. Beam L(yds)  \\\n",
       "0  6.000360                33298  12.500542        38055.0928   \n",
       "1  6.998927                58709  14.500689        68666.0504   \n",
       "2  6.999971                69586  14.499654        81386.8056   \n",
       "3  6.998796                27419  14.502171        32069.8200   \n",
       "4  8.000000                22500   8.999734        24725.2024   \n",
       "\n",
       "   Recv. Beam L(Yds)  Deliverd Yds  Rej.Yds  Total Prod Yds  Short/Ex. Yds  \\\n",
       "0         38286.9360         34668    301.0         34969.0         1671.0   \n",
       "1         69634.9800         59019    505.0         59524.0          815.0   \n",
       "2         82556.9576         70613    341.0         70954.0         1368.0   \n",
       "3         32353.0624         27820      0.0         27820.0          401.0   \n",
       "4         24917.6760         22631    369.0         23000.0          500.0   \n",
       "\n",
       "   Total loss%  \n",
       "0     8.665974  \n",
       "1    14.519973  \n",
       "2    14.054488  \n",
       "3    14.011231  \n",
       "4     7.696047  "
      ]
     },
     "execution_count": 25,
     "metadata": {},
     "output_type": "execute_result"
    }
   ],
   "source": [
    "df.head()"
   ]
  },
  {
   "cell_type": "code",
   "execution_count": 26,
   "id": "1dec20c1",
   "metadata": {},
   "outputs": [],
   "source": [
    "X = df.copy()\n",
    "y = X.pop('Total loss%')"
   ]
  },
  {
   "cell_type": "code",
   "execution_count": 27,
   "id": "533c5cc1",
   "metadata": {},
   "outputs": [
    {
     "data": {
      "text/html": [
       "<div>\n",
       "<style scoped>\n",
       "    .dataframe tbody tr th:only-of-type {\n",
       "        vertical-align: middle;\n",
       "    }\n",
       "\n",
       "    .dataframe tbody tr th {\n",
       "        vertical-align: top;\n",
       "    }\n",
       "\n",
       "    .dataframe thead th {\n",
       "        text-align: right;\n",
       "    }\n",
       "</style>\n",
       "<table border=\"1\" class=\"dataframe\">\n",
       "  <thead>\n",
       "    <tr style=\"text-align: right;\">\n",
       "      <th></th>\n",
       "      <th>warp_count</th>\n",
       "      <th>weft_count</th>\n",
       "      <th>epi</th>\n",
       "      <th>ppi</th>\n",
       "      <th>remark</th>\n",
       "      <th>F.Ord.(Yds)</th>\n",
       "      <th>Delivery</th>\n",
       "      <th>Req. Grey Qtv (Yds)</th>\n",
       "      <th>Shrin%</th>\n",
       "      <th>Req. Beam L(yds)</th>\n",
       "      <th>Recv. Beam L(Yds)</th>\n",
       "      <th>Deliverd Yds</th>\n",
       "      <th>Rej.Yds</th>\n",
       "      <th>Total Prod Yds</th>\n",
       "      <th>Short/Ex. Yds</th>\n",
       "    </tr>\n",
       "  </thead>\n",
       "  <tbody>\n",
       "    <tr>\n",
       "      <th>0</th>\n",
       "      <td>40</td>\n",
       "      <td>40</td>\n",
       "      <td>110</td>\n",
       "      <td>80</td>\n",
       "      <td>double beam</td>\n",
       "      <td>31300</td>\n",
       "      <td>6.000360</td>\n",
       "      <td>33298</td>\n",
       "      <td>12.500542</td>\n",
       "      <td>38055.0928</td>\n",
       "      <td>38286.9360</td>\n",
       "      <td>34668</td>\n",
       "      <td>301.0</td>\n",
       "      <td>34969.0</td>\n",
       "      <td>1671.0</td>\n",
       "    </tr>\n",
       "    <tr>\n",
       "      <th>1</th>\n",
       "      <td>40</td>\n",
       "      <td>40</td>\n",
       "      <td>110</td>\n",
       "      <td>90</td>\n",
       "      <td>normal</td>\n",
       "      <td>54600</td>\n",
       "      <td>6.998927</td>\n",
       "      <td>58709</td>\n",
       "      <td>14.500689</td>\n",
       "      <td>68666.0504</td>\n",
       "      <td>69634.9800</td>\n",
       "      <td>59019</td>\n",
       "      <td>505.0</td>\n",
       "      <td>59524.0</td>\n",
       "      <td>815.0</td>\n",
       "    </tr>\n",
       "    <tr>\n",
       "      <th>2</th>\n",
       "      <td>40</td>\n",
       "      <td>40</td>\n",
       "      <td>110</td>\n",
       "      <td>90</td>\n",
       "      <td>normal</td>\n",
       "      <td>64715</td>\n",
       "      <td>6.999971</td>\n",
       "      <td>69586</td>\n",
       "      <td>14.499654</td>\n",
       "      <td>81386.8056</td>\n",
       "      <td>82556.9576</td>\n",
       "      <td>70613</td>\n",
       "      <td>341.0</td>\n",
       "      <td>70954.0</td>\n",
       "      <td>1368.0</td>\n",
       "    </tr>\n",
       "    <tr>\n",
       "      <th>3</th>\n",
       "      <td>40</td>\n",
       "      <td>40</td>\n",
       "      <td>110</td>\n",
       "      <td>90</td>\n",
       "      <td>normal</td>\n",
       "      <td>25500</td>\n",
       "      <td>6.998796</td>\n",
       "      <td>27419</td>\n",
       "      <td>14.502171</td>\n",
       "      <td>32069.8200</td>\n",
       "      <td>32353.0624</td>\n",
       "      <td>27820</td>\n",
       "      <td>0.0</td>\n",
       "      <td>27820.0</td>\n",
       "      <td>401.0</td>\n",
       "    </tr>\n",
       "    <tr>\n",
       "      <th>4</th>\n",
       "      <td>50</td>\n",
       "      <td>50</td>\n",
       "      <td>140</td>\n",
       "      <td>70</td>\n",
       "      <td>normal</td>\n",
       "      <td>20700</td>\n",
       "      <td>8.000000</td>\n",
       "      <td>22500</td>\n",
       "      <td>8.999734</td>\n",
       "      <td>24725.2024</td>\n",
       "      <td>24917.6760</td>\n",
       "      <td>22631</td>\n",
       "      <td>369.0</td>\n",
       "      <td>23000.0</td>\n",
       "      <td>500.0</td>\n",
       "    </tr>\n",
       "  </tbody>\n",
       "</table>\n",
       "</div>"
      ],
      "text/plain": [
       "   warp_count  weft_count  epi  ppi       remark  F.Ord.(Yds)  Delivery  \\\n",
       "0          40          40  110   80  double beam        31300  6.000360   \n",
       "1          40          40  110   90       normal        54600  6.998927   \n",
       "2          40          40  110   90       normal        64715  6.999971   \n",
       "3          40          40  110   90       normal        25500  6.998796   \n",
       "4          50          50  140   70       normal        20700  8.000000   \n",
       "\n",
       "   Req. Grey Qtv (Yds)     Shrin%  Req. Beam L(yds)  Recv. Beam L(Yds)  \\\n",
       "0                33298  12.500542        38055.0928         38286.9360   \n",
       "1                58709  14.500689        68666.0504         69634.9800   \n",
       "2                69586  14.499654        81386.8056         82556.9576   \n",
       "3                27419  14.502171        32069.8200         32353.0624   \n",
       "4                22500   8.999734        24725.2024         24917.6760   \n",
       "\n",
       "   Deliverd Yds  Rej.Yds  Total Prod Yds  Short/Ex. Yds  \n",
       "0         34668    301.0         34969.0         1671.0  \n",
       "1         59019    505.0         59524.0          815.0  \n",
       "2         70613    341.0         70954.0         1368.0  \n",
       "3         27820      0.0         27820.0          401.0  \n",
       "4         22631    369.0         23000.0          500.0  "
      ]
     },
     "execution_count": 27,
     "metadata": {},
     "output_type": "execute_result"
    }
   ],
   "source": [
    "# X.reset_index()\n",
    "X= X.drop(['Sl', 'lot_no.'], axis=1)\n",
    "X.head()"
   ]
  },
  {
   "cell_type": "code",
   "execution_count": 28,
   "id": "aaa244dd",
   "metadata": {},
   "outputs": [],
   "source": [
    "# X = X.drop('remark', axis=1)"
   ]
  },
  {
   "cell_type": "code",
   "execution_count": null,
   "id": "9689b285",
   "metadata": {},
   "outputs": [],
   "source": []
  },
  {
   "cell_type": "code",
   "execution_count": null,
   "id": "b5c1241f",
   "metadata": {},
   "outputs": [],
   "source": []
  },
  {
   "cell_type": "code",
   "execution_count": 29,
   "id": "d673b9c1",
   "metadata": {},
   "outputs": [],
   "source": [
    "for i in X.select_dtypes('object').columns:\n",
    "    X[i], _ = X[i].factorize()"
   ]
  },
  {
   "cell_type": "code",
   "execution_count": 30,
   "id": "ef40fac4",
   "metadata": {},
   "outputs": [
    {
     "data": {
      "text/html": [
       "<div>\n",
       "<style scoped>\n",
       "    .dataframe tbody tr th:only-of-type {\n",
       "        vertical-align: middle;\n",
       "    }\n",
       "\n",
       "    .dataframe tbody tr th {\n",
       "        vertical-align: top;\n",
       "    }\n",
       "\n",
       "    .dataframe thead th {\n",
       "        text-align: right;\n",
       "    }\n",
       "</style>\n",
       "<table border=\"1\" class=\"dataframe\">\n",
       "  <thead>\n",
       "    <tr style=\"text-align: right;\">\n",
       "      <th></th>\n",
       "      <th>warp_count</th>\n",
       "      <th>weft_count</th>\n",
       "      <th>epi</th>\n",
       "      <th>ppi</th>\n",
       "      <th>remark</th>\n",
       "      <th>F.Ord.(Yds)</th>\n",
       "      <th>Delivery</th>\n",
       "      <th>Req. Grey Qtv (Yds)</th>\n",
       "      <th>Shrin%</th>\n",
       "      <th>Req. Beam L(yds)</th>\n",
       "      <th>Recv. Beam L(Yds)</th>\n",
       "      <th>Deliverd Yds</th>\n",
       "      <th>Rej.Yds</th>\n",
       "      <th>Total Prod Yds</th>\n",
       "      <th>Short/Ex. Yds</th>\n",
       "    </tr>\n",
       "  </thead>\n",
       "  <tbody>\n",
       "    <tr>\n",
       "      <th>0</th>\n",
       "      <td>40</td>\n",
       "      <td>40</td>\n",
       "      <td>110</td>\n",
       "      <td>80</td>\n",
       "      <td>0</td>\n",
       "      <td>31300</td>\n",
       "      <td>6.000360</td>\n",
       "      <td>33298</td>\n",
       "      <td>12.500542</td>\n",
       "      <td>38055.0928</td>\n",
       "      <td>38286.9360</td>\n",
       "      <td>34668</td>\n",
       "      <td>301.0</td>\n",
       "      <td>34969.0</td>\n",
       "      <td>1671.0</td>\n",
       "    </tr>\n",
       "    <tr>\n",
       "      <th>1</th>\n",
       "      <td>40</td>\n",
       "      <td>40</td>\n",
       "      <td>110</td>\n",
       "      <td>90</td>\n",
       "      <td>1</td>\n",
       "      <td>54600</td>\n",
       "      <td>6.998927</td>\n",
       "      <td>58709</td>\n",
       "      <td>14.500689</td>\n",
       "      <td>68666.0504</td>\n",
       "      <td>69634.9800</td>\n",
       "      <td>59019</td>\n",
       "      <td>505.0</td>\n",
       "      <td>59524.0</td>\n",
       "      <td>815.0</td>\n",
       "    </tr>\n",
       "    <tr>\n",
       "      <th>2</th>\n",
       "      <td>40</td>\n",
       "      <td>40</td>\n",
       "      <td>110</td>\n",
       "      <td>90</td>\n",
       "      <td>1</td>\n",
       "      <td>64715</td>\n",
       "      <td>6.999971</td>\n",
       "      <td>69586</td>\n",
       "      <td>14.499654</td>\n",
       "      <td>81386.8056</td>\n",
       "      <td>82556.9576</td>\n",
       "      <td>70613</td>\n",
       "      <td>341.0</td>\n",
       "      <td>70954.0</td>\n",
       "      <td>1368.0</td>\n",
       "    </tr>\n",
       "    <tr>\n",
       "      <th>3</th>\n",
       "      <td>40</td>\n",
       "      <td>40</td>\n",
       "      <td>110</td>\n",
       "      <td>90</td>\n",
       "      <td>1</td>\n",
       "      <td>25500</td>\n",
       "      <td>6.998796</td>\n",
       "      <td>27419</td>\n",
       "      <td>14.502171</td>\n",
       "      <td>32069.8200</td>\n",
       "      <td>32353.0624</td>\n",
       "      <td>27820</td>\n",
       "      <td>0.0</td>\n",
       "      <td>27820.0</td>\n",
       "      <td>401.0</td>\n",
       "    </tr>\n",
       "    <tr>\n",
       "      <th>4</th>\n",
       "      <td>50</td>\n",
       "      <td>50</td>\n",
       "      <td>140</td>\n",
       "      <td>70</td>\n",
       "      <td>1</td>\n",
       "      <td>20700</td>\n",
       "      <td>8.000000</td>\n",
       "      <td>22500</td>\n",
       "      <td>8.999734</td>\n",
       "      <td>24725.2024</td>\n",
       "      <td>24917.6760</td>\n",
       "      <td>22631</td>\n",
       "      <td>369.0</td>\n",
       "      <td>23000.0</td>\n",
       "      <td>500.0</td>\n",
       "    </tr>\n",
       "  </tbody>\n",
       "</table>\n",
       "</div>"
      ],
      "text/plain": [
       "   warp_count  weft_count  epi  ppi  remark  F.Ord.(Yds)  Delivery  \\\n",
       "0          40          40  110   80       0        31300  6.000360   \n",
       "1          40          40  110   90       1        54600  6.998927   \n",
       "2          40          40  110   90       1        64715  6.999971   \n",
       "3          40          40  110   90       1        25500  6.998796   \n",
       "4          50          50  140   70       1        20700  8.000000   \n",
       "\n",
       "   Req. Grey Qtv (Yds)     Shrin%  Req. Beam L(yds)  Recv. Beam L(Yds)  \\\n",
       "0                33298  12.500542        38055.0928         38286.9360   \n",
       "1                58709  14.500689        68666.0504         69634.9800   \n",
       "2                69586  14.499654        81386.8056         82556.9576   \n",
       "3                27419  14.502171        32069.8200         32353.0624   \n",
       "4                22500   8.999734        24725.2024         24917.6760   \n",
       "\n",
       "   Deliverd Yds  Rej.Yds  Total Prod Yds  Short/Ex. Yds  \n",
       "0         34668    301.0         34969.0         1671.0  \n",
       "1         59019    505.0         59524.0          815.0  \n",
       "2         70613    341.0         70954.0         1368.0  \n",
       "3         27820      0.0         27820.0          401.0  \n",
       "4         22631    369.0         23000.0          500.0  "
      ]
     },
     "execution_count": 30,
     "metadata": {},
     "output_type": "execute_result"
    }
   ],
   "source": [
    "X.head()"
   ]
  },
  {
   "cell_type": "code",
   "execution_count": 31,
   "id": "de9aae65",
   "metadata": {},
   "outputs": [],
   "source": [
    "from sklearn.model_selection import train_test_split"
   ]
  },
  {
   "cell_type": "code",
   "execution_count": 32,
   "id": "90afcce7",
   "metadata": {},
   "outputs": [],
   "source": [
    "X_train, X_test, y_train, y_test = train_test_split(X,y, test_size=0.2, random_state=0)"
   ]
  },
  {
   "cell_type": "code",
   "execution_count": 33,
   "id": "70e09a05",
   "metadata": {},
   "outputs": [],
   "source": [
    "# X_train"
   ]
  },
  {
   "cell_type": "code",
   "execution_count": 34,
   "id": "a11d8b7e",
   "metadata": {},
   "outputs": [],
   "source": [
    "from sklearn.preprocessing import MinMaxScaler"
   ]
  },
  {
   "cell_type": "code",
   "execution_count": 35,
   "id": "58e7031b",
   "metadata": {},
   "outputs": [],
   "source": [
    "sc = MinMaxScaler()"
   ]
  },
  {
   "cell_type": "code",
   "execution_count": 36,
   "id": "84f48ae8",
   "metadata": {},
   "outputs": [],
   "source": [
    "X_train_sc = sc.fit_transform(X_train)\n",
    "X_test_sc = sc.transform(X_test)"
   ]
  },
  {
   "cell_type": "code",
   "execution_count": 37,
   "id": "2dae2851",
   "metadata": {},
   "outputs": [],
   "source": [
    "# X_train_sc"
   ]
  },
  {
   "cell_type": "code",
   "execution_count": 38,
   "id": "f6b25261",
   "metadata": {},
   "outputs": [],
   "source": [
    "# X_test_sc"
   ]
  },
  {
   "cell_type": "code",
   "execution_count": 13,
   "id": "f8c2869a",
   "metadata": {},
   "outputs": [],
   "source": [
    "# pd.DataFrame({'Feature':X.columns, 'Co_efficient':co_eff}).sort_values(by='Co_efficient', ascending= False)"
   ]
  },
  {
   "cell_type": "code",
   "execution_count": null,
   "id": "b3bbad9b",
   "metadata": {},
   "outputs": [],
   "source": []
  },
  {
   "cell_type": "code",
   "execution_count": 45,
   "id": "2cfa38a7",
   "metadata": {},
   "outputs": [],
   "source": [
    "# from sklearn.preprocessing import Normalizer"
   ]
  },
  {
   "cell_type": "code",
   "execution_count": 46,
   "id": "fe7f5c00",
   "metadata": {},
   "outputs": [],
   "source": [
    "# sc = Normalizer()\n",
    "# X_train_nn = sc.fit_transform(X_train)\n",
    "# X_test_nn = sc.transform(X_test)"
   ]
  },
  {
   "cell_type": "code",
   "execution_count": null,
   "id": "0414cd8b",
   "metadata": {},
   "outputs": [],
   "source": []
  },
  {
   "cell_type": "code",
   "execution_count": 39,
   "id": "57f98f49",
   "metadata": {},
   "outputs": [],
   "source": [
    "from sklearn.metrics import r2_score"
   ]
  },
  {
   "cell_type": "code",
   "execution_count": 40,
   "id": "345c2c56",
   "metadata": {},
   "outputs": [],
   "source": [
    "import tensorflow as tf\n",
    "from tensorflow.keras.models import Sequential\n",
    "from tensorflow.keras.layers import Dense"
   ]
  },
  {
   "cell_type": "code",
   "execution_count": 17,
   "id": "d8c213be",
   "metadata": {},
   "outputs": [
    {
     "data": {
      "text/plain": [
       "<tensorflow.python.keras.initializers.initializers_v2.RandomNormal at 0x7facfbd07c10>"
      ]
     },
     "execution_count": 17,
     "metadata": {},
     "output_type": "execute_result"
    }
   ],
   "source": [
    "tf.initializers.random_normal()"
   ]
  },
  {
   "cell_type": "code",
   "execution_count": 16,
   "id": "f4864ab1",
   "metadata": {},
   "outputs": [
    {
     "ename": "NameError",
     "evalue": "name 'X_train_nn' is not defined",
     "output_type": "error",
     "traceback": [
      "\u001b[0;31m---------------------------------------------------------------------------\u001b[0m",
      "\u001b[0;31mNameError\u001b[0m                                 Traceback (most recent call last)",
      "\u001b[0;32m<ipython-input-16-1aa6c159b4a7>\u001b[0m in \u001b[0;36m<module>\u001b[0;34m\u001b[0m\n\u001b[1;32m      1\u001b[0m \u001b[0mnn_model\u001b[0m \u001b[0;34m=\u001b[0m \u001b[0mSequential\u001b[0m\u001b[0;34m(\u001b[0m\u001b[0;34m)\u001b[0m\u001b[0;34m\u001b[0m\u001b[0;34m\u001b[0m\u001b[0m\n\u001b[0;32m----> 2\u001b[0;31m \u001b[0mnn_model\u001b[0m\u001b[0;34m.\u001b[0m\u001b[0madd\u001b[0m\u001b[0;34m(\u001b[0m\u001b[0mDense\u001b[0m\u001b[0;34m(\u001b[0m\u001b[0;36m128\u001b[0m\u001b[0;34m,\u001b[0m \u001b[0mkernel_initializer\u001b[0m \u001b[0;34m=\u001b[0m \u001b[0;34m'glorot_uniform'\u001b[0m\u001b[0;34m,\u001b[0m \u001b[0minput_dim\u001b[0m \u001b[0;34m=\u001b[0m \u001b[0mX_train_nn\u001b[0m\u001b[0;34m.\u001b[0m\u001b[0mshape\u001b[0m\u001b[0;34m[\u001b[0m\u001b[0;36m1\u001b[0m\u001b[0;34m]\u001b[0m\u001b[0;34m,\u001b[0m \u001b[0mactivation\u001b[0m \u001b[0;34m=\u001b[0m \u001b[0;34m'relu'\u001b[0m\u001b[0;34m)\u001b[0m\u001b[0;34m)\u001b[0m\u001b[0;34m\u001b[0m\u001b[0;34m\u001b[0m\u001b[0m\n\u001b[0m\u001b[1;32m      3\u001b[0m \u001b[0mnn_model\u001b[0m\u001b[0;34m.\u001b[0m\u001b[0madd\u001b[0m\u001b[0;34m(\u001b[0m\u001b[0mDense\u001b[0m\u001b[0;34m(\u001b[0m\u001b[0;36m256\u001b[0m\u001b[0;34m,\u001b[0m\u001b[0mkernel_initializer\u001b[0m \u001b[0;34m=\u001b[0m \u001b[0;34m'glorot_uniform'\u001b[0m\u001b[0;34m,\u001b[0m  \u001b[0mactivation\u001b[0m \u001b[0;34m=\u001b[0m \u001b[0;34m'relu'\u001b[0m\u001b[0;34m)\u001b[0m\u001b[0;34m)\u001b[0m\u001b[0;34m\u001b[0m\u001b[0;34m\u001b[0m\u001b[0m\n\u001b[1;32m      4\u001b[0m \u001b[0mnn_model\u001b[0m\u001b[0;34m.\u001b[0m\u001b[0madd\u001b[0m\u001b[0;34m(\u001b[0m\u001b[0mDense\u001b[0m\u001b[0;34m(\u001b[0m\u001b[0;36m128\u001b[0m\u001b[0;34m,\u001b[0m\u001b[0mkernel_initializer\u001b[0m \u001b[0;34m=\u001b[0m \u001b[0;34m'glorot_uniform'\u001b[0m\u001b[0;34m,\u001b[0m  \u001b[0mactivation\u001b[0m \u001b[0;34m=\u001b[0m \u001b[0;34m'relu'\u001b[0m\u001b[0;34m)\u001b[0m\u001b[0;34m)\u001b[0m\u001b[0;34m\u001b[0m\u001b[0;34m\u001b[0m\u001b[0m\n\u001b[1;32m      5\u001b[0m \u001b[0mnn_model\u001b[0m\u001b[0;34m.\u001b[0m\u001b[0madd\u001b[0m\u001b[0;34m(\u001b[0m\u001b[0mDense\u001b[0m\u001b[0;34m(\u001b[0m\u001b[0;36m128\u001b[0m\u001b[0;34m,\u001b[0m \u001b[0mkernel_initializer\u001b[0m \u001b[0;34m=\u001b[0m \u001b[0;34m'glorot_uniform'\u001b[0m\u001b[0;34m,\u001b[0m \u001b[0mactivation\u001b[0m \u001b[0;34m=\u001b[0m \u001b[0;34m'relu'\u001b[0m\u001b[0;34m)\u001b[0m\u001b[0;34m)\u001b[0m\u001b[0;34m\u001b[0m\u001b[0;34m\u001b[0m\u001b[0m\n",
      "\u001b[0;31mNameError\u001b[0m: name 'X_train_nn' is not defined"
     ]
    }
   ],
   "source": [
    "nn_model = Sequential()\n",
    "nn_model.add(Dense(128, kernel_initializer = 'glorot_uniform', input_dim = X_train_nn.shape[1], activation = 'relu'))\n",
    "nn_model.add(Dense(256,kernel_initializer = 'glorot_uniform',  activation = 'relu'))\n",
    "nn_model.add(Dense(128,kernel_initializer = 'glorot_uniform',  activation = 'relu'))\n",
    "nn_model.add(Dense(128, kernel_initializer = 'glorot_uniform', activation = 'relu'))\n",
    "nn_model.add(Dense(1, kernel_initializer = 'glorot_uniform',   activation= 'linear'))\n",
    "nn_model.compile(loss='mean_absolute_error', optimizer = 'adam', metrics = ['mean_absolute_error'])\n",
    "# nn_model.summary()"
   ]
  },
  {
   "cell_type": "code",
   "execution_count": 18,
   "id": "8cb6840d",
   "metadata": {},
   "outputs": [
    {
     "ename": "NameError",
     "evalue": "name 'nn_model' is not defined",
     "output_type": "error",
     "traceback": [
      "\u001b[0;31m---------------------------------------------------------------------------\u001b[0m",
      "\u001b[0;31mNameError\u001b[0m                                 Traceback (most recent call last)",
      "\u001b[0;32m<ipython-input-18-3383a5d6caf0>\u001b[0m in \u001b[0;36m<module>\u001b[0;34m\u001b[0m\n\u001b[0;32m----> 1\u001b[0;31m \u001b[0mnn_model\u001b[0m\u001b[0;34m.\u001b[0m\u001b[0mfit\u001b[0m\u001b[0;34m(\u001b[0m\u001b[0mX_train_nn\u001b[0m\u001b[0;34m,\u001b[0m \u001b[0my_train\u001b[0m\u001b[0;34m,\u001b[0m \u001b[0mepochs\u001b[0m\u001b[0;34m=\u001b[0m\u001b[0;36m200\u001b[0m\u001b[0;34m,\u001b[0m \u001b[0mbatch_size\u001b[0m\u001b[0;34m=\u001b[0m\u001b[0;36m30\u001b[0m\u001b[0;34m,\u001b[0m\u001b[0mvalidation_split\u001b[0m\u001b[0;34m=\u001b[0m\u001b[0;36m0.2\u001b[0m\u001b[0;34m,\u001b[0m \u001b[0mverbose\u001b[0m\u001b[0;34m=\u001b[0m\u001b[0;36m0\u001b[0m \u001b[0;34m)\u001b[0m\u001b[0;34m\u001b[0m\u001b[0;34m\u001b[0m\u001b[0m\n\u001b[0m",
      "\u001b[0;31mNameError\u001b[0m: name 'nn_model' is not defined"
     ]
    }
   ],
   "source": [
    "nn_model.fit(X_train_nn, y_train, epochs=200, batch_size=30,validation_split=0.2, verbose=0 )"
   ]
  },
  {
   "cell_type": "code",
   "execution_count": null,
   "id": "b9930945",
   "metadata": {},
   "outputs": [],
   "source": [
    "y_pre = nn_model.predict(X_test_nn)\n",
    "r2_score(y_test, y_pre)"
   ]
  },
  {
   "cell_type": "code",
   "execution_count": null,
   "id": "9da538ee",
   "metadata": {},
   "outputs": [],
   "source": []
  },
  {
   "cell_type": "code",
   "execution_count": null,
   "id": "ad87f879",
   "metadata": {},
   "outputs": [],
   "source": []
  },
  {
   "cell_type": "code",
   "execution_count": 41,
   "id": "a40b2410",
   "metadata": {},
   "outputs": [
    {
     "name": "stdout",
     "output_type": "stream",
     "text": [
      "Model: \"sequential_1\"\n",
      "_________________________________________________________________\n",
      "Layer (type)                 Output Shape              Param #   \n",
      "=================================================================\n",
      "dense_5 (Dense)              (None, 128)               2048      \n",
      "_________________________________________________________________\n",
      "dense_6 (Dense)              (None, 256)               33024     \n",
      "_________________________________________________________________\n",
      "dense_7 (Dense)              (None, 128)               32896     \n",
      "_________________________________________________________________\n",
      "dense_8 (Dense)              (None, 128)               16512     \n",
      "_________________________________________________________________\n",
      "dense_9 (Dense)              (None, 1)                 129       \n",
      "=================================================================\n",
      "Total params: 84,609\n",
      "Trainable params: 84,609\n",
      "Non-trainable params: 0\n",
      "_________________________________________________________________\n"
     ]
    }
   ],
   "source": [
    "nn_model = Sequential()\n",
    "nn_model.add(Dense(128, kernel_initializer = 'normal', input_dim = X_train_sc.shape[1], activation = 'relu'))\n",
    "nn_model.add(Dense(256, kernel_initializer = 'normal', activation = 'relu'))\n",
    "nn_model.add(Dense(128, kernel_initializer = 'normal', activation = 'relu'))\n",
    "nn_model.add(Dense(128, kernel_initializer = 'normal', activation = 'relu'))\n",
    "nn_model.add(Dense(1, kernel_initializer='normal', activation= 'linear'))\n",
    "nn_model.compile(loss='mean_absolute_error', optimizer = 'adam', metrics = ['mean_absolute_error'])\n",
    "nn_model.summary()"
   ]
  },
  {
   "cell_type": "code",
   "execution_count": 21,
   "id": "bf7791e4",
   "metadata": {},
   "outputs": [],
   "source": [
    "# X_train_sc"
   ]
  },
  {
   "cell_type": "code",
   "execution_count": 54,
   "id": "d6213e02",
   "metadata": {},
   "outputs": [
    {
     "name": "stdout",
     "output_type": "stream",
     "text": [
      "Epoch 1/200\n",
      "9/9 [==============================] - 0s 47ms/step - loss: 0.7854 - mean_absolute_error: 0.7854 - val_loss: 0.9061 - val_mean_absolute_error: 0.9061\n",
      "Epoch 2/200\n",
      "9/9 [==============================] - 0s 34ms/step - loss: 0.8322 - mean_absolute_error: 0.8322 - val_loss: 0.9041 - val_mean_absolute_error: 0.9041\n",
      "Epoch 3/200\n",
      "9/9 [==============================] - 0s 40ms/step - loss: 0.8195 - mean_absolute_error: 0.8195 - val_loss: 1.0345 - val_mean_absolute_error: 1.0345\n",
      "Epoch 4/200\n",
      "9/9 [==============================] - 0s 46ms/step - loss: 0.8281 - mean_absolute_error: 0.8281 - val_loss: 0.9716 - val_mean_absolute_error: 0.9716\n",
      "Epoch 5/200\n",
      "9/9 [==============================] - 0s 42ms/step - loss: 0.8496 - mean_absolute_error: 0.8496 - val_loss: 0.9874 - val_mean_absolute_error: 0.9874\n",
      "Epoch 6/200\n",
      "9/9 [==============================] - 0s 39ms/step - loss: 0.8928 - mean_absolute_error: 0.8928 - val_loss: 0.8931 - val_mean_absolute_error: 0.8931\n",
      "Epoch 7/200\n",
      "9/9 [==============================] - 0s 39ms/step - loss: 0.8003 - mean_absolute_error: 0.8003 - val_loss: 0.8973 - val_mean_absolute_error: 0.8973\n",
      "Epoch 8/200\n",
      "9/9 [==============================] - 0s 37ms/step - loss: 0.7737 - mean_absolute_error: 0.7737 - val_loss: 1.0855 - val_mean_absolute_error: 1.0855\n",
      "Epoch 9/200\n",
      "9/9 [==============================] - 0s 42ms/step - loss: 0.7495 - mean_absolute_error: 0.7495 - val_loss: 0.9184 - val_mean_absolute_error: 0.9184\n",
      "Epoch 10/200\n",
      "9/9 [==============================] - 0s 32ms/step - loss: 0.7197 - mean_absolute_error: 0.7197 - val_loss: 0.8921 - val_mean_absolute_error: 0.8921\n",
      "Epoch 11/200\n",
      "9/9 [==============================] - 0s 28ms/step - loss: 0.7553 - mean_absolute_error: 0.7553 - val_loss: 0.9070 - val_mean_absolute_error: 0.9070\n",
      "Epoch 12/200\n",
      "9/9 [==============================] - 0s 28ms/step - loss: 0.7529 - mean_absolute_error: 0.7529 - val_loss: 0.9027 - val_mean_absolute_error: 0.9027\n",
      "Epoch 13/200\n",
      "9/9 [==============================] - 0s 28ms/step - loss: 0.7562 - mean_absolute_error: 0.7562 - val_loss: 0.8850 - val_mean_absolute_error: 0.8850\n",
      "Epoch 14/200\n",
      "9/9 [==============================] - 0s 29ms/step - loss: 0.7693 - mean_absolute_error: 0.7693 - val_loss: 1.0175 - val_mean_absolute_error: 1.0175\n",
      "Epoch 15/200\n",
      "9/9 [==============================] - 0s 48ms/step - loss: 0.7270 - mean_absolute_error: 0.7270 - val_loss: 0.8918 - val_mean_absolute_error: 0.8918\n",
      "Epoch 16/200\n",
      "9/9 [==============================] - 0s 42ms/step - loss: 0.7128 - mean_absolute_error: 0.7128 - val_loss: 0.9315 - val_mean_absolute_error: 0.9315\n",
      "Epoch 17/200\n",
      "9/9 [==============================] - 0s 37ms/step - loss: 0.7113 - mean_absolute_error: 0.7113 - val_loss: 0.9511 - val_mean_absolute_error: 0.9511\n",
      "Epoch 18/200\n",
      "9/9 [==============================] - 0s 27ms/step - loss: 0.7625 - mean_absolute_error: 0.7625 - val_loss: 0.9589 - val_mean_absolute_error: 0.9589\n",
      "Epoch 19/200\n",
      "9/9 [==============================] - 0s 29ms/step - loss: 0.8053 - mean_absolute_error: 0.8053 - val_loss: 0.9128 - val_mean_absolute_error: 0.9128\n",
      "Epoch 20/200\n",
      "9/9 [==============================] - 0s 44ms/step - loss: 0.8060 - mean_absolute_error: 0.8060 - val_loss: 0.9141 - val_mean_absolute_error: 0.9141\n",
      "Epoch 21/200\n",
      "9/9 [==============================] - 0s 40ms/step - loss: 0.8569 - mean_absolute_error: 0.8569 - val_loss: 1.0314 - val_mean_absolute_error: 1.0314\n",
      "Epoch 22/200\n",
      "9/9 [==============================] - 0s 42ms/step - loss: 0.9388 - mean_absolute_error: 0.9388 - val_loss: 1.0330 - val_mean_absolute_error: 1.0330\n",
      "Epoch 23/200\n",
      "9/9 [==============================] - 0s 35ms/step - loss: 0.9090 - mean_absolute_error: 0.9090 - val_loss: 0.8885 - val_mean_absolute_error: 0.8885\n",
      "Epoch 24/200\n",
      "9/9 [==============================] - 0s 23ms/step - loss: 0.9127 - mean_absolute_error: 0.9127 - val_loss: 0.8912 - val_mean_absolute_error: 0.8912\n",
      "Epoch 25/200\n",
      "9/9 [==============================] - 0s 24ms/step - loss: 0.7426 - mean_absolute_error: 0.7426 - val_loss: 0.9688 - val_mean_absolute_error: 0.9688\n",
      "Epoch 26/200\n",
      "9/9 [==============================] - 0s 41ms/step - loss: 0.7461 - mean_absolute_error: 0.7461 - val_loss: 0.9046 - val_mean_absolute_error: 0.9046\n",
      "Epoch 27/200\n",
      "9/9 [==============================] - 0s 37ms/step - loss: 0.7354 - mean_absolute_error: 0.7354 - val_loss: 0.9012 - val_mean_absolute_error: 0.9012\n",
      "Epoch 28/200\n",
      "9/9 [==============================] - 0s 41ms/step - loss: 0.7431 - mean_absolute_error: 0.7431 - val_loss: 1.0618 - val_mean_absolute_error: 1.0618\n",
      "Epoch 29/200\n",
      "9/9 [==============================] - 0s 39ms/step - loss: 0.7999 - mean_absolute_error: 0.7999 - val_loss: 0.8929 - val_mean_absolute_error: 0.8929\n",
      "Epoch 30/200\n",
      "9/9 [==============================] - 0s 42ms/step - loss: 0.7549 - mean_absolute_error: 0.7549 - val_loss: 0.9041 - val_mean_absolute_error: 0.9041\n",
      "Epoch 31/200\n",
      "9/9 [==============================] - 0s 42ms/step - loss: 0.7634 - mean_absolute_error: 0.7634 - val_loss: 0.9469 - val_mean_absolute_error: 0.9469\n",
      "Epoch 32/200\n",
      "9/9 [==============================] - 0s 39ms/step - loss: 0.7404 - mean_absolute_error: 0.7404 - val_loss: 0.9434 - val_mean_absolute_error: 0.9434\n",
      "Epoch 33/200\n",
      "9/9 [==============================] - 0s 39ms/step - loss: 0.7898 - mean_absolute_error: 0.7898 - val_loss: 0.8959 - val_mean_absolute_error: 0.8959\n",
      "Epoch 34/200\n",
      "9/9 [==============================] - 0s 46ms/step - loss: 0.7345 - mean_absolute_error: 0.7345 - val_loss: 0.9180 - val_mean_absolute_error: 0.9180\n",
      "Epoch 35/200\n",
      "9/9 [==============================] - 0s 33ms/step - loss: 0.7084 - mean_absolute_error: 0.7084 - val_loss: 0.8992 - val_mean_absolute_error: 0.8992\n",
      "Epoch 36/200\n",
      "9/9 [==============================] - 0s 48ms/step - loss: 0.7316 - mean_absolute_error: 0.7316 - val_loss: 0.9416 - val_mean_absolute_error: 0.9416\n",
      "Epoch 37/200\n",
      "9/9 [==============================] - 0s 41ms/step - loss: 0.7630 - mean_absolute_error: 0.7630 - val_loss: 0.8873 - val_mean_absolute_error: 0.8873\n",
      "Epoch 38/200\n",
      "9/9 [==============================] - 0s 35ms/step - loss: 0.7290 - mean_absolute_error: 0.7290 - val_loss: 0.8825 - val_mean_absolute_error: 0.8825\n",
      "Epoch 39/200\n",
      "9/9 [==============================] - 0s 31ms/step - loss: 0.7326 - mean_absolute_error: 0.7326 - val_loss: 0.9097 - val_mean_absolute_error: 0.9097\n",
      "Epoch 40/200\n",
      "9/9 [==============================] - 0s 31ms/step - loss: 0.7510 - mean_absolute_error: 0.7510 - val_loss: 0.8675 - val_mean_absolute_error: 0.8675\n",
      "Epoch 41/200\n",
      "9/9 [==============================] - 0s 34ms/step - loss: 0.7650 - mean_absolute_error: 0.7650 - val_loss: 0.8634 - val_mean_absolute_error: 0.8634\n",
      "Epoch 42/200\n",
      "9/9 [==============================] - 0s 30ms/step - loss: 0.7226 - mean_absolute_error: 0.7226 - val_loss: 0.8743 - val_mean_absolute_error: 0.8743\n",
      "Epoch 43/200\n",
      "9/9 [==============================] - 0s 39ms/step - loss: 0.7789 - mean_absolute_error: 0.7789 - val_loss: 1.0496 - val_mean_absolute_error: 1.0496\n",
      "Epoch 44/200\n",
      "9/9 [==============================] - 0s 40ms/step - loss: 0.9153 - mean_absolute_error: 0.9153 - val_loss: 0.9038 - val_mean_absolute_error: 0.9038\n",
      "Epoch 45/200\n",
      "9/9 [==============================] - 0s 37ms/step - loss: 0.7968 - mean_absolute_error: 0.7968 - val_loss: 1.0099 - val_mean_absolute_error: 1.0099\n",
      "Epoch 46/200\n",
      "9/9 [==============================] - 0s 47ms/step - loss: 0.8396 - mean_absolute_error: 0.8396 - val_loss: 0.9203 - val_mean_absolute_error: 0.9203\n",
      "Epoch 47/200\n",
      "9/9 [==============================] - 0s 41ms/step - loss: 0.9129 - mean_absolute_error: 0.9129 - val_loss: 0.9250 - val_mean_absolute_error: 0.9250\n",
      "Epoch 48/200\n",
      "9/9 [==============================] - 0s 40ms/step - loss: 0.7653 - mean_absolute_error: 0.7653 - val_loss: 0.8776 - val_mean_absolute_error: 0.8776\n",
      "Epoch 49/200\n",
      "9/9 [==============================] - 0s 43ms/step - loss: 0.7293 - mean_absolute_error: 0.7293 - val_loss: 0.9009 - val_mean_absolute_error: 0.9009\n",
      "Epoch 50/200\n",
      "9/9 [==============================] - 0s 39ms/step - loss: 0.7136 - mean_absolute_error: 0.7136 - val_loss: 0.9114 - val_mean_absolute_error: 0.9114\n",
      "Epoch 51/200\n",
      "9/9 [==============================] - 0s 44ms/step - loss: 0.7329 - mean_absolute_error: 0.7329 - val_loss: 0.9249 - val_mean_absolute_error: 0.9249\n",
      "Epoch 52/200\n",
      "9/9 [==============================] - 0s 38ms/step - loss: 0.7672 - mean_absolute_error: 0.7672 - val_loss: 0.8959 - val_mean_absolute_error: 0.8959\n",
      "Epoch 53/200\n",
      "9/9 [==============================] - 0s 28ms/step - loss: 0.7885 - mean_absolute_error: 0.7885 - val_loss: 0.8743 - val_mean_absolute_error: 0.8743\n",
      "Epoch 54/200\n",
      "9/9 [==============================] - 0s 27ms/step - loss: 0.7138 - mean_absolute_error: 0.7138 - val_loss: 0.8859 - val_mean_absolute_error: 0.8859\n",
      "Epoch 55/200\n",
      "9/9 [==============================] - 0s 28ms/step - loss: 0.7053 - mean_absolute_error: 0.7053 - val_loss: 0.8897 - val_mean_absolute_error: 0.8897\n",
      "Epoch 56/200\n",
      "9/9 [==============================] - 0s 36ms/step - loss: 0.7660 - mean_absolute_error: 0.7660 - val_loss: 0.9158 - val_mean_absolute_error: 0.9158\n",
      "Epoch 57/200\n",
      "9/9 [==============================] - 0s 40ms/step - loss: 0.7668 - mean_absolute_error: 0.7668 - val_loss: 0.9059 - val_mean_absolute_error: 0.9059\n",
      "Epoch 58/200\n",
      "9/9 [==============================] - 0s 38ms/step - loss: 0.7304 - mean_absolute_error: 0.7304 - val_loss: 0.9001 - val_mean_absolute_error: 0.9001\n",
      "Epoch 59/200\n",
      "9/9 [==============================] - 0s 38ms/step - loss: 0.7605 - mean_absolute_error: 0.7605 - val_loss: 0.9149 - val_mean_absolute_error: 0.9149\n",
      "Epoch 60/200\n",
      "9/9 [==============================] - 0s 36ms/step - loss: 0.7601 - mean_absolute_error: 0.7601 - val_loss: 0.9450 - val_mean_absolute_error: 0.9450\n",
      "Epoch 61/200\n",
      "9/9 [==============================] - 0s 32ms/step - loss: 0.8034 - mean_absolute_error: 0.8034 - val_loss: 0.8968 - val_mean_absolute_error: 0.8968\n",
      "Epoch 62/200\n",
      "9/9 [==============================] - 0s 35ms/step - loss: 0.7241 - mean_absolute_error: 0.7241 - val_loss: 0.8732 - val_mean_absolute_error: 0.8732\n",
      "Epoch 63/200\n",
      "9/9 [==============================] - 0s 28ms/step - loss: 0.6925 - mean_absolute_error: 0.6925 - val_loss: 0.8917 - val_mean_absolute_error: 0.8917\n",
      "Epoch 64/200\n",
      "9/9 [==============================] - 0s 28ms/step - loss: 0.6816 - mean_absolute_error: 0.6816 - val_loss: 0.8706 - val_mean_absolute_error: 0.8706\n",
      "Epoch 65/200\n",
      "9/9 [==============================] - 0s 27ms/step - loss: 0.7037 - mean_absolute_error: 0.7037 - val_loss: 0.9398 - val_mean_absolute_error: 0.9398\n",
      "Epoch 66/200\n",
      "9/9 [==============================] - 0s 36ms/step - loss: 0.7369 - mean_absolute_error: 0.7369 - val_loss: 0.9181 - val_mean_absolute_error: 0.9181\n",
      "Epoch 67/200\n",
      "9/9 [==============================] - 0s 42ms/step - loss: 0.7603 - mean_absolute_error: 0.7603 - val_loss: 0.8815 - val_mean_absolute_error: 0.8815\n",
      "Epoch 68/200\n",
      "9/9 [==============================] - 0s 40ms/step - loss: 0.7057 - mean_absolute_error: 0.7057 - val_loss: 0.8896 - val_mean_absolute_error: 0.8896\n",
      "Epoch 69/200\n",
      "9/9 [==============================] - 0s 38ms/step - loss: 0.7415 - mean_absolute_error: 0.7415 - val_loss: 0.8792 - val_mean_absolute_error: 0.8792\n",
      "Epoch 70/200\n",
      "9/9 [==============================] - 0s 34ms/step - loss: 0.7974 - mean_absolute_error: 0.7974 - val_loss: 0.9056 - val_mean_absolute_error: 0.9056\n",
      "Epoch 71/200\n",
      "9/9 [==============================] - 0s 35ms/step - loss: 0.8203 - mean_absolute_error: 0.8203 - val_loss: 0.8930 - val_mean_absolute_error: 0.8930\n",
      "Epoch 72/200\n",
      "9/9 [==============================] - 0s 36ms/step - loss: 0.7168 - mean_absolute_error: 0.7168 - val_loss: 0.8915 - val_mean_absolute_error: 0.8915\n",
      "Epoch 73/200\n",
      "9/9 [==============================] - 0s 36ms/step - loss: 0.7360 - mean_absolute_error: 0.7360 - val_loss: 0.8955 - val_mean_absolute_error: 0.8955\n",
      "Epoch 74/200\n",
      "9/9 [==============================] - 0s 40ms/step - loss: 0.6964 - mean_absolute_error: 0.6964 - val_loss: 0.9329 - val_mean_absolute_error: 0.9329\n",
      "Epoch 75/200\n",
      "9/9 [==============================] - 0s 41ms/step - loss: 0.7390 - mean_absolute_error: 0.7390 - val_loss: 0.8438 - val_mean_absolute_error: 0.8438\n",
      "Epoch 76/200\n",
      "9/9 [==============================] - 0s 42ms/step - loss: 0.7288 - mean_absolute_error: 0.7288 - val_loss: 0.8814 - val_mean_absolute_error: 0.8814\n",
      "Epoch 77/200\n",
      "9/9 [==============================] - 0s 44ms/step - loss: 0.7337 - mean_absolute_error: 0.7337 - val_loss: 0.8612 - val_mean_absolute_error: 0.8612\n",
      "Epoch 78/200\n",
      "9/9 [==============================] - 0s 44ms/step - loss: 0.7219 - mean_absolute_error: 0.7219 - val_loss: 0.8595 - val_mean_absolute_error: 0.8595\n",
      "Epoch 79/200\n",
      "9/9 [==============================] - 0s 38ms/step - loss: 0.7230 - mean_absolute_error: 0.7230 - val_loss: 0.9204 - val_mean_absolute_error: 0.9204\n",
      "Epoch 80/200\n",
      "9/9 [==============================] - 0s 43ms/step - loss: 0.7281 - mean_absolute_error: 0.7281 - val_loss: 0.8921 - val_mean_absolute_error: 0.8921\n",
      "Epoch 81/200\n",
      "9/9 [==============================] - 0s 29ms/step - loss: 0.7714 - mean_absolute_error: 0.7714 - val_loss: 1.0115 - val_mean_absolute_error: 1.0115\n",
      "Epoch 82/200\n",
      "9/9 [==============================] - 0s 46ms/step - loss: 0.8133 - mean_absolute_error: 0.8133 - val_loss: 0.9113 - val_mean_absolute_error: 0.9113\n",
      "Epoch 83/200\n",
      "9/9 [==============================] - 0s 42ms/step - loss: 0.7474 - mean_absolute_error: 0.7474 - val_loss: 0.8654 - val_mean_absolute_error: 0.8654\n",
      "Epoch 84/200\n",
      "9/9 [==============================] - 0s 41ms/step - loss: 0.7210 - mean_absolute_error: 0.7210 - val_loss: 0.8687 - val_mean_absolute_error: 0.8687\n",
      "Epoch 85/200\n",
      "9/9 [==============================] - 0s 41ms/step - loss: 0.7205 - mean_absolute_error: 0.7205 - val_loss: 0.9230 - val_mean_absolute_error: 0.9230\n",
      "Epoch 86/200\n",
      "9/9 [==============================] - 0s 39ms/step - loss: 0.6955 - mean_absolute_error: 0.6955 - val_loss: 0.8740 - val_mean_absolute_error: 0.8740\n",
      "Epoch 87/200\n",
      "9/9 [==============================] - 0s 46ms/step - loss: 0.7016 - mean_absolute_error: 0.7016 - val_loss: 0.8965 - val_mean_absolute_error: 0.8965\n",
      "Epoch 88/200\n",
      "9/9 [==============================] - 0s 31ms/step - loss: 0.6969 - mean_absolute_error: 0.6969 - val_loss: 0.9323 - val_mean_absolute_error: 0.9323\n",
      "Epoch 89/200\n",
      "9/9 [==============================] - 0s 28ms/step - loss: 0.7389 - mean_absolute_error: 0.7389 - val_loss: 0.9573 - val_mean_absolute_error: 0.9573\n",
      "Epoch 90/200\n",
      "9/9 [==============================] - 0s 38ms/step - loss: 0.9085 - mean_absolute_error: 0.9085 - val_loss: 0.9522 - val_mean_absolute_error: 0.9522\n",
      "Epoch 91/200\n",
      "9/9 [==============================] - 0s 31ms/step - loss: 0.8537 - mean_absolute_error: 0.8537 - val_loss: 0.9014 - val_mean_absolute_error: 0.9014\n",
      "Epoch 92/200\n",
      "9/9 [==============================] - 0s 38ms/step - loss: 0.7098 - mean_absolute_error: 0.7098 - val_loss: 0.8498 - val_mean_absolute_error: 0.8498\n",
      "Epoch 93/200\n",
      "9/9 [==============================] - 0s 33ms/step - loss: 0.7173 - mean_absolute_error: 0.7173 - val_loss: 0.9207 - val_mean_absolute_error: 0.9207\n",
      "Epoch 94/200\n",
      "9/9 [==============================] - 0s 48ms/step - loss: 0.7067 - mean_absolute_error: 0.7067 - val_loss: 0.8737 - val_mean_absolute_error: 0.8737\n",
      "Epoch 95/200\n",
      "9/9 [==============================] - 0s 41ms/step - loss: 0.7280 - mean_absolute_error: 0.7280 - val_loss: 0.8756 - val_mean_absolute_error: 0.8756\n",
      "Epoch 96/200\n",
      "9/9 [==============================] - 0s 43ms/step - loss: 0.7672 - mean_absolute_error: 0.7672 - val_loss: 0.9631 - val_mean_absolute_error: 0.9631\n",
      "Epoch 97/200\n",
      "9/9 [==============================] - 0s 34ms/step - loss: 0.7708 - mean_absolute_error: 0.7708 - val_loss: 0.8583 - val_mean_absolute_error: 0.8583\n",
      "Epoch 98/200\n",
      "9/9 [==============================] - 0s 31ms/step - loss: 0.7716 - mean_absolute_error: 0.7716 - val_loss: 0.8848 - val_mean_absolute_error: 0.8848\n",
      "Epoch 99/200\n",
      "9/9 [==============================] - 0s 44ms/step - loss: 0.7667 - mean_absolute_error: 0.7667 - val_loss: 1.1428 - val_mean_absolute_error: 1.1428\n",
      "Epoch 100/200\n",
      "9/9 [==============================] - 0s 31ms/step - loss: 0.7827 - mean_absolute_error: 0.7827 - val_loss: 0.9835 - val_mean_absolute_error: 0.9835\n",
      "Epoch 101/200\n"
     ]
    },
    {
     "name": "stdout",
     "output_type": "stream",
     "text": [
      "9/9 [==============================] - 0s 41ms/step - loss: 0.7088 - mean_absolute_error: 0.7088 - val_loss: 0.8557 - val_mean_absolute_error: 0.8557\n",
      "Epoch 102/200\n",
      "9/9 [==============================] - 0s 41ms/step - loss: 0.7607 - mean_absolute_error: 0.7607 - val_loss: 0.9859 - val_mean_absolute_error: 0.9859\n",
      "Epoch 103/200\n",
      "9/9 [==============================] - 0s 38ms/step - loss: 0.8408 - mean_absolute_error: 0.8408 - val_loss: 0.9194 - val_mean_absolute_error: 0.9194\n",
      "Epoch 104/200\n",
      "9/9 [==============================] - 0s 27ms/step - loss: 0.8735 - mean_absolute_error: 0.8735 - val_loss: 1.2267 - val_mean_absolute_error: 1.2267\n",
      "Epoch 105/200\n",
      "9/9 [==============================] - 0s 29ms/step - loss: 0.8425 - mean_absolute_error: 0.8425 - val_loss: 0.9208 - val_mean_absolute_error: 0.9208\n",
      "Epoch 106/200\n",
      "9/9 [==============================] - 0s 30ms/step - loss: 0.7717 - mean_absolute_error: 0.7717 - val_loss: 0.8956 - val_mean_absolute_error: 0.8956\n",
      "Epoch 107/200\n",
      "9/9 [==============================] - 0s 26ms/step - loss: 0.7147 - mean_absolute_error: 0.7147 - val_loss: 0.8652 - val_mean_absolute_error: 0.8652\n",
      "Epoch 108/200\n",
      "9/9 [==============================] - 0s 30ms/step - loss: 0.7261 - mean_absolute_error: 0.7261 - val_loss: 0.9121 - val_mean_absolute_error: 0.9121\n",
      "Epoch 109/200\n",
      "9/9 [==============================] - 0s 34ms/step - loss: 0.7263 - mean_absolute_error: 0.7263 - val_loss: 0.8715 - val_mean_absolute_error: 0.8715\n",
      "Epoch 110/200\n",
      "9/9 [==============================] - 0s 31ms/step - loss: 0.6713 - mean_absolute_error: 0.6713 - val_loss: 0.8946 - val_mean_absolute_error: 0.8946\n",
      "Epoch 111/200\n",
      "9/9 [==============================] - 0s 27ms/step - loss: 0.7355 - mean_absolute_error: 0.7355 - val_loss: 0.8797 - val_mean_absolute_error: 0.8797\n",
      "Epoch 112/200\n",
      "9/9 [==============================] - 0s 40ms/step - loss: 0.7149 - mean_absolute_error: 0.7149 - val_loss: 0.8945 - val_mean_absolute_error: 0.8945\n",
      "Epoch 113/200\n",
      "9/9 [==============================] - 0s 39ms/step - loss: 0.7032 - mean_absolute_error: 0.7032 - val_loss: 0.8964 - val_mean_absolute_error: 0.8964\n",
      "Epoch 114/200\n",
      "9/9 [==============================] - 0s 39ms/step - loss: 0.7571 - mean_absolute_error: 0.7571 - val_loss: 0.8448 - val_mean_absolute_error: 0.8448\n",
      "Epoch 115/200\n",
      "9/9 [==============================] - 0s 28ms/step - loss: 0.7335 - mean_absolute_error: 0.7335 - val_loss: 0.9087 - val_mean_absolute_error: 0.9087\n",
      "Epoch 116/200\n",
      "9/9 [==============================] - 0s 40ms/step - loss: 0.7358 - mean_absolute_error: 0.7358 - val_loss: 0.8714 - val_mean_absolute_error: 0.8714\n",
      "Epoch 117/200\n",
      "9/9 [==============================] - 0s 30ms/step - loss: 0.7780 - mean_absolute_error: 0.7780 - val_loss: 0.8767 - val_mean_absolute_error: 0.8767\n",
      "Epoch 118/200\n",
      "9/9 [==============================] - 0s 32ms/step - loss: 0.7385 - mean_absolute_error: 0.7385 - val_loss: 0.8917 - val_mean_absolute_error: 0.8917\n",
      "Epoch 119/200\n",
      "9/9 [==============================] - 0s 39ms/step - loss: 0.6866 - mean_absolute_error: 0.6866 - val_loss: 0.8835 - val_mean_absolute_error: 0.8835\n",
      "Epoch 120/200\n",
      "9/9 [==============================] - 0s 38ms/step - loss: 0.7142 - mean_absolute_error: 0.7142 - val_loss: 0.9361 - val_mean_absolute_error: 0.9361\n",
      "Epoch 121/200\n",
      "9/9 [==============================] - 0s 40ms/step - loss: 0.7137 - mean_absolute_error: 0.7137 - val_loss: 0.9090 - val_mean_absolute_error: 0.9090\n",
      "Epoch 122/200\n",
      "9/9 [==============================] - 0s 29ms/step - loss: 0.7098 - mean_absolute_error: 0.7098 - val_loss: 0.8717 - val_mean_absolute_error: 0.8717\n",
      "Epoch 123/200\n",
      "9/9 [==============================] - 0s 42ms/step - loss: 0.7395 - mean_absolute_error: 0.7395 - val_loss: 1.0366 - val_mean_absolute_error: 1.0366\n",
      "Epoch 124/200\n",
      "9/9 [==============================] - 0s 40ms/step - loss: 0.7287 - mean_absolute_error: 0.7287 - val_loss: 0.9124 - val_mean_absolute_error: 0.9124\n",
      "Epoch 125/200\n",
      "9/9 [==============================] - 0s 42ms/step - loss: 0.7500 - mean_absolute_error: 0.7500 - val_loss: 1.0636 - val_mean_absolute_error: 1.0636\n",
      "Epoch 126/200\n",
      "9/9 [==============================] - 0s 37ms/step - loss: 0.8847 - mean_absolute_error: 0.8847 - val_loss: 0.8788 - val_mean_absolute_error: 0.8788\n",
      "Epoch 127/200\n",
      "9/9 [==============================] - 0s 39ms/step - loss: 0.7787 - mean_absolute_error: 0.7787 - val_loss: 0.8388 - val_mean_absolute_error: 0.8388\n",
      "Epoch 128/200\n",
      "9/9 [==============================] - 0s 38ms/step - loss: 0.7123 - mean_absolute_error: 0.7123 - val_loss: 0.8949 - val_mean_absolute_error: 0.8949\n",
      "Epoch 129/200\n",
      "9/9 [==============================] - 0s 34ms/step - loss: 0.6957 - mean_absolute_error: 0.6957 - val_loss: 0.8757 - val_mean_absolute_error: 0.8757\n",
      "Epoch 130/200\n",
      "9/9 [==============================] - 0s 42ms/step - loss: 0.8435 - mean_absolute_error: 0.8435 - val_loss: 1.0511 - val_mean_absolute_error: 1.0511\n",
      "Epoch 131/200\n",
      "9/9 [==============================] - 0s 42ms/step - loss: 0.7692 - mean_absolute_error: 0.7692 - val_loss: 0.8553 - val_mean_absolute_error: 0.8553\n",
      "Epoch 132/200\n",
      "9/9 [==============================] - 0s 38ms/step - loss: 0.6987 - mean_absolute_error: 0.6987 - val_loss: 0.8604 - val_mean_absolute_error: 0.8604\n",
      "Epoch 133/200\n",
      "9/9 [==============================] - 0s 36ms/step - loss: 0.6943 - mean_absolute_error: 0.6943 - val_loss: 0.8667 - val_mean_absolute_error: 0.8667\n",
      "Epoch 134/200\n",
      "9/9 [==============================] - 0s 40ms/step - loss: 0.6613 - mean_absolute_error: 0.6613 - val_loss: 0.9014 - val_mean_absolute_error: 0.9014\n",
      "Epoch 135/200\n",
      "9/9 [==============================] - 0s 40ms/step - loss: 0.6662 - mean_absolute_error: 0.6662 - val_loss: 0.8611 - val_mean_absolute_error: 0.8611\n",
      "Epoch 136/200\n",
      "9/9 [==============================] - 0s 42ms/step - loss: 0.6925 - mean_absolute_error: 0.6925 - val_loss: 0.8656 - val_mean_absolute_error: 0.8656\n",
      "Epoch 137/200\n",
      "9/9 [==============================] - 0s 33ms/step - loss: 0.6839 - mean_absolute_error: 0.6839 - val_loss: 0.8396 - val_mean_absolute_error: 0.8396\n",
      "Epoch 138/200\n",
      "9/9 [==============================] - 0s 39ms/step - loss: 0.6884 - mean_absolute_error: 0.6884 - val_loss: 0.9441 - val_mean_absolute_error: 0.9441\n",
      "Epoch 139/200\n",
      "9/9 [==============================] - 0s 33ms/step - loss: 0.6914 - mean_absolute_error: 0.6914 - val_loss: 0.8966 - val_mean_absolute_error: 0.8966\n",
      "Epoch 140/200\n",
      "9/9 [==============================] - 0s 40ms/step - loss: 0.6730 - mean_absolute_error: 0.6730 - val_loss: 0.8468 - val_mean_absolute_error: 0.8468\n",
      "Epoch 141/200\n",
      "9/9 [==============================] - 0s 31ms/step - loss: 0.6735 - mean_absolute_error: 0.6735 - val_loss: 0.8789 - val_mean_absolute_error: 0.8789\n",
      "Epoch 142/200\n",
      "9/9 [==============================] - 0s 44ms/step - loss: 0.6674 - mean_absolute_error: 0.6674 - val_loss: 0.8738 - val_mean_absolute_error: 0.8738\n",
      "Epoch 143/200\n",
      "9/9 [==============================] - 0s 43ms/step - loss: 0.6605 - mean_absolute_error: 0.6605 - val_loss: 0.9163 - val_mean_absolute_error: 0.9163\n",
      "Epoch 144/200\n",
      "9/9 [==============================] - 0s 42ms/step - loss: 0.7500 - mean_absolute_error: 0.7500 - val_loss: 0.8638 - val_mean_absolute_error: 0.8638\n",
      "Epoch 145/200\n",
      "9/9 [==============================] - 0s 39ms/step - loss: 0.7820 - mean_absolute_error: 0.7820 - val_loss: 0.8581 - val_mean_absolute_error: 0.8581\n",
      "Epoch 146/200\n",
      "9/9 [==============================] - 0s 35ms/step - loss: 0.7780 - mean_absolute_error: 0.7780 - val_loss: 1.1397 - val_mean_absolute_error: 1.1397\n",
      "Epoch 147/200\n",
      "9/9 [==============================] - 0s 36ms/step - loss: 0.9401 - mean_absolute_error: 0.9401 - val_loss: 0.9434 - val_mean_absolute_error: 0.9434\n",
      "Epoch 148/200\n",
      "9/9 [==============================] - 0s 24ms/step - loss: 0.7983 - mean_absolute_error: 0.7983 - val_loss: 0.8627 - val_mean_absolute_error: 0.8627\n",
      "Epoch 149/200\n",
      "9/9 [==============================] - 0s 45ms/step - loss: 0.7631 - mean_absolute_error: 0.7631 - val_loss: 0.8557 - val_mean_absolute_error: 0.8557\n",
      "Epoch 150/200\n",
      "9/9 [==============================] - 0s 40ms/step - loss: 0.6741 - mean_absolute_error: 0.6741 - val_loss: 0.8520 - val_mean_absolute_error: 0.8520\n",
      "Epoch 151/200\n"
     ]
    },
    {
     "name": "stdout",
     "output_type": "stream",
     "text": [
      "9/9 [==============================] - 0s 42ms/step - loss: 0.6783 - mean_absolute_error: 0.6783 - val_loss: 0.8962 - val_mean_absolute_error: 0.8962\n",
      "Epoch 152/200\n",
      "9/9 [==============================] - 0s 41ms/step - loss: 0.6820 - mean_absolute_error: 0.6820 - val_loss: 0.8822 - val_mean_absolute_error: 0.8822\n",
      "Epoch 153/200\n",
      "9/9 [==============================] - 0s 41ms/step - loss: 0.6844 - mean_absolute_error: 0.6844 - val_loss: 0.8864 - val_mean_absolute_error: 0.8864\n",
      "Epoch 154/200\n",
      "9/9 [==============================] - 0s 40ms/step - loss: 0.7694 - mean_absolute_error: 0.7694 - val_loss: 1.0411 - val_mean_absolute_error: 1.0411\n",
      "Epoch 155/200\n",
      "9/9 [==============================] - 0s 40ms/step - loss: 0.7201 - mean_absolute_error: 0.7201 - val_loss: 0.9090 - val_mean_absolute_error: 0.9090\n",
      "Epoch 156/200\n",
      "9/9 [==============================] - 0s 41ms/step - loss: 0.7066 - mean_absolute_error: 0.7066 - val_loss: 0.8635 - val_mean_absolute_error: 0.8635\n",
      "Epoch 157/200\n",
      "9/9 [==============================] - 0s 42ms/step - loss: 0.7020 - mean_absolute_error: 0.7020 - val_loss: 0.8682 - val_mean_absolute_error: 0.8682\n",
      "Epoch 158/200\n",
      "9/9 [==============================] - 0s 38ms/step - loss: 0.7228 - mean_absolute_error: 0.7228 - val_loss: 1.1087 - val_mean_absolute_error: 1.1087\n",
      "Epoch 159/200\n",
      "9/9 [==============================] - 0s 27ms/step - loss: 0.7741 - mean_absolute_error: 0.7741 - val_loss: 0.8681 - val_mean_absolute_error: 0.8681\n",
      "Epoch 160/200\n",
      "9/9 [==============================] - 0s 39ms/step - loss: 0.7377 - mean_absolute_error: 0.7377 - val_loss: 0.9021 - val_mean_absolute_error: 0.9021\n",
      "Epoch 161/200\n",
      "9/9 [==============================] - 0s 39ms/step - loss: 0.7242 - mean_absolute_error: 0.7242 - val_loss: 0.8999 - val_mean_absolute_error: 0.8999\n",
      "Epoch 162/200\n",
      "9/9 [==============================] - 0s 39ms/step - loss: 0.6782 - mean_absolute_error: 0.6782 - val_loss: 0.8885 - val_mean_absolute_error: 0.8885\n",
      "Epoch 163/200\n",
      "9/9 [==============================] - 0s 39ms/step - loss: 0.6632 - mean_absolute_error: 0.6632 - val_loss: 0.8870 - val_mean_absolute_error: 0.8870\n",
      "Epoch 164/200\n",
      "9/9 [==============================] - 0s 42ms/step - loss: 0.6982 - mean_absolute_error: 0.6982 - val_loss: 0.9193 - val_mean_absolute_error: 0.9193\n",
      "Epoch 165/200\n",
      "9/9 [==============================] - 0s 40ms/step - loss: 0.8559 - mean_absolute_error: 0.8559 - val_loss: 0.9453 - val_mean_absolute_error: 0.9453\n",
      "Epoch 166/200\n",
      "9/9 [==============================] - 0s 41ms/step - loss: 0.7394 - mean_absolute_error: 0.7394 - val_loss: 0.8695 - val_mean_absolute_error: 0.8695\n",
      "Epoch 167/200\n",
      "9/9 [==============================] - 0s 38ms/step - loss: 0.6925 - mean_absolute_error: 0.6925 - val_loss: 0.8905 - val_mean_absolute_error: 0.8905\n",
      "Epoch 168/200\n",
      "9/9 [==============================] - 0s 41ms/step - loss: 0.7213 - mean_absolute_error: 0.7213 - val_loss: 0.9029 - val_mean_absolute_error: 0.9029\n",
      "Epoch 169/200\n",
      "9/9 [==============================] - 0s 34ms/step - loss: 0.7091 - mean_absolute_error: 0.7091 - val_loss: 0.9059 - val_mean_absolute_error: 0.9059\n",
      "Epoch 170/200\n",
      "9/9 [==============================] - 0s 41ms/step - loss: 0.7807 - mean_absolute_error: 0.7807 - val_loss: 0.9349 - val_mean_absolute_error: 0.9349\n",
      "Epoch 171/200\n",
      "9/9 [==============================] - 0s 40ms/step - loss: 0.8009 - mean_absolute_error: 0.8009 - val_loss: 0.8680 - val_mean_absolute_error: 0.8680\n",
      "Epoch 172/200\n",
      "9/9 [==============================] - 0s 29ms/step - loss: 0.7133 - mean_absolute_error: 0.7133 - val_loss: 0.8461 - val_mean_absolute_error: 0.8461\n",
      "Epoch 173/200\n",
      "9/9 [==============================] - 0s 29ms/step - loss: 0.6934 - mean_absolute_error: 0.6934 - val_loss: 0.9191 - val_mean_absolute_error: 0.9191\n",
      "Epoch 174/200\n",
      "9/9 [==============================] - 0s 40ms/step - loss: 0.7365 - mean_absolute_error: 0.7365 - val_loss: 0.8579 - val_mean_absolute_error: 0.8579\n",
      "Epoch 175/200\n",
      "9/9 [==============================] - 0s 40ms/step - loss: 0.7108 - mean_absolute_error: 0.7108 - val_loss: 0.9708 - val_mean_absolute_error: 0.9708\n",
      "Epoch 176/200\n",
      "9/9 [==============================] - 0s 42ms/step - loss: 0.8184 - mean_absolute_error: 0.8184 - val_loss: 0.9588 - val_mean_absolute_error: 0.9588\n",
      "Epoch 177/200\n",
      "9/9 [==============================] - 0s 36ms/step - loss: 0.7586 - mean_absolute_error: 0.7586 - val_loss: 0.9009 - val_mean_absolute_error: 0.9009\n",
      "Epoch 178/200\n",
      "9/9 [==============================] - 0s 40ms/step - loss: 0.7288 - mean_absolute_error: 0.7288 - val_loss: 0.8867 - val_mean_absolute_error: 0.8867\n",
      "Epoch 179/200\n",
      "9/9 [==============================] - 0s 43ms/step - loss: 0.6913 - mean_absolute_error: 0.6913 - val_loss: 0.8440 - val_mean_absolute_error: 0.8440\n",
      "Epoch 180/200\n",
      "9/9 [==============================] - 0s 42ms/step - loss: 0.6792 - mean_absolute_error: 0.6792 - val_loss: 0.8702 - val_mean_absolute_error: 0.8702\n",
      "Epoch 181/200\n",
      "9/9 [==============================] - 0s 36ms/step - loss: 0.6701 - mean_absolute_error: 0.6701 - val_loss: 0.8926 - val_mean_absolute_error: 0.8926\n",
      "Epoch 182/200\n",
      "9/9 [==============================] - 0s 40ms/step - loss: 0.7143 - mean_absolute_error: 0.7143 - val_loss: 0.8776 - val_mean_absolute_error: 0.8776\n",
      "Epoch 183/200\n",
      "9/9 [==============================] - 0s 41ms/step - loss: 0.6991 - mean_absolute_error: 0.6991 - val_loss: 0.8980 - val_mean_absolute_error: 0.8980\n",
      "Epoch 184/200\n",
      "9/9 [==============================] - 0s 45ms/step - loss: 0.6671 - mean_absolute_error: 0.6671 - val_loss: 0.8485 - val_mean_absolute_error: 0.8485\n",
      "Epoch 185/200\n",
      "9/9 [==============================] - 0s 40ms/step - loss: 0.6970 - mean_absolute_error: 0.6970 - val_loss: 0.9363 - val_mean_absolute_error: 0.9363\n",
      "Epoch 186/200\n",
      "9/9 [==============================] - 0s 35ms/step - loss: 0.6923 - mean_absolute_error: 0.6923 - val_loss: 0.8467 - val_mean_absolute_error: 0.8467\n",
      "Epoch 187/200\n",
      "9/9 [==============================] - 0s 27ms/step - loss: 0.7334 - mean_absolute_error: 0.7334 - val_loss: 0.9227 - val_mean_absolute_error: 0.9227\n",
      "Epoch 188/200\n",
      "9/9 [==============================] - 0s 30ms/step - loss: 0.7128 - mean_absolute_error: 0.7128 - val_loss: 0.9706 - val_mean_absolute_error: 0.9706\n",
      "Epoch 189/200\n",
      "9/9 [==============================] - 0s 32ms/step - loss: 0.8507 - mean_absolute_error: 0.8507 - val_loss: 0.9204 - val_mean_absolute_error: 0.9204\n",
      "Epoch 190/200\n",
      "9/9 [==============================] - 0s 39ms/step - loss: 0.8009 - mean_absolute_error: 0.8009 - val_loss: 0.8678 - val_mean_absolute_error: 0.8678\n",
      "Epoch 191/200\n",
      "9/9 [==============================] - 0s 46ms/step - loss: 0.7454 - mean_absolute_error: 0.7454 - val_loss: 0.8575 - val_mean_absolute_error: 0.8575\n",
      "Epoch 192/200\n",
      "9/9 [==============================] - 0s 42ms/step - loss: 0.6935 - mean_absolute_error: 0.6935 - val_loss: 0.8677 - val_mean_absolute_error: 0.8677\n",
      "Epoch 193/200\n",
      "9/9 [==============================] - 0s 41ms/step - loss: 0.6990 - mean_absolute_error: 0.6990 - val_loss: 0.9519 - val_mean_absolute_error: 0.9519\n",
      "Epoch 194/200\n",
      "9/9 [==============================] - 0s 40ms/step - loss: 0.6705 - mean_absolute_error: 0.6705 - val_loss: 0.8431 - val_mean_absolute_error: 0.8431\n",
      "Epoch 195/200\n",
      "9/9 [==============================] - 0s 39ms/step - loss: 0.6891 - mean_absolute_error: 0.6891 - val_loss: 0.9883 - val_mean_absolute_error: 0.9883\n",
      "Epoch 196/200\n",
      "9/9 [==============================] - 0s 41ms/step - loss: 0.7060 - mean_absolute_error: 0.7060 - val_loss: 0.8487 - val_mean_absolute_error: 0.8487\n",
      "Epoch 197/200\n",
      "9/9 [==============================] - 0s 36ms/step - loss: 0.6597 - mean_absolute_error: 0.6597 - val_loss: 0.8512 - val_mean_absolute_error: 0.8512\n",
      "Epoch 198/200\n",
      "9/9 [==============================] - 0s 30ms/step - loss: 0.6735 - mean_absolute_error: 0.6735 - val_loss: 0.8852 - val_mean_absolute_error: 0.8852\n",
      "Epoch 199/200\n",
      "9/9 [==============================] - 0s 30ms/step - loss: 0.7052 - mean_absolute_error: 0.7052 - val_loss: 0.9288 - val_mean_absolute_error: 0.9288\n",
      "Epoch 200/200\n",
      "9/9 [==============================] - 0s 34ms/step - loss: 0.7941 - mean_absolute_error: 0.7941 - val_loss: 0.9339 - val_mean_absolute_error: 0.9339\n"
     ]
    },
    {
     "data": {
      "text/plain": [
       "<tensorflow.python.keras.callbacks.History at 0x7faccc38a220>"
      ]
     },
     "execution_count": 54,
     "metadata": {},
     "output_type": "execute_result"
    }
   ],
   "source": [
    "nn_model.fit(X_train_sc, y_train, epochs=200, batch_size=31, validation_split=0.2, verbose=1)"
   ]
  },
  {
   "cell_type": "code",
   "execution_count": 55,
   "id": "5697fdc2",
   "metadata": {},
   "outputs": [
    {
     "data": {
      "text/plain": [
       "0.6938583459900408"
      ]
     },
     "execution_count": 55,
     "metadata": {},
     "output_type": "execute_result"
    }
   ],
   "source": [
    "y_pred = nn_model.predict(X_test_sc)\n",
    "r2_score(y_test, y_pred)"
   ]
  },
  {
   "cell_type": "code",
   "execution_count": 57,
   "id": "38fcc8f3",
   "metadata": {},
   "outputs": [
    {
     "data": {
      "text/plain": [
       "{}"
      ]
     },
     "execution_count": 57,
     "metadata": {},
     "output_type": "execute_result"
    }
   ],
   "source": [
    "nn_model.history.history #need to fit once again to get history.history"
   ]
  },
  {
   "cell_type": "code",
   "execution_count": null,
   "id": "2d7b358c",
   "metadata": {},
   "outputs": [],
   "source": []
  },
  {
   "cell_type": "code",
   "execution_count": 31,
   "id": "d4d0ab37",
   "metadata": {},
   "outputs": [
    {
     "data": {
      "text/plain": [
       "<tensorflow.python.keras.callbacks.History at 0x7f5aa4ea96d0>"
      ]
     },
     "execution_count": 31,
     "metadata": {},
     "output_type": "execute_result"
    }
   ],
   "source": [
    "nn_model.fit(X_train_sc, y_train, epochs=200, batch_size=31, validation_split=0.2, verbose=0)"
   ]
  },
  {
   "cell_type": "code",
   "execution_count": 19,
   "id": "7b66c0c7",
   "metadata": {},
   "outputs": [
    {
     "data": {
      "text/plain": [
       "0.6314559919321744"
      ]
     },
     "execution_count": 19,
     "metadata": {},
     "output_type": "execute_result"
    }
   ],
   "source": [
    "y_pred = nn_model.predict(X_test_sc)\n",
    "r2_score(y_test, y_pred)"
   ]
  },
  {
   "cell_type": "code",
   "execution_count": 25,
   "id": "afb295e2",
   "metadata": {},
   "outputs": [],
   "source": [
    "losses = pd.DataFrame(nn_model.history.history)"
   ]
  },
  {
   "cell_type": "code",
   "execution_count": 26,
   "id": "120edfd1",
   "metadata": {},
   "outputs": [
    {
     "data": {
      "text/html": [
       "<div>\n",
       "<style scoped>\n",
       "    .dataframe tbody tr th:only-of-type {\n",
       "        vertical-align: middle;\n",
       "    }\n",
       "\n",
       "    .dataframe tbody tr th {\n",
       "        vertical-align: top;\n",
       "    }\n",
       "\n",
       "    .dataframe thead th {\n",
       "        text-align: right;\n",
       "    }\n",
       "</style>\n",
       "<table border=\"1\" class=\"dataframe\">\n",
       "  <thead>\n",
       "    <tr style=\"text-align: right;\">\n",
       "      <th></th>\n",
       "    </tr>\n",
       "  </thead>\n",
       "  <tbody>\n",
       "  </tbody>\n",
       "</table>\n",
       "</div>"
      ],
      "text/plain": [
       "Empty DataFrame\n",
       "Columns: []\n",
       "Index: []"
      ]
     },
     "execution_count": 26,
     "metadata": {},
     "output_type": "execute_result"
    }
   ],
   "source": [
    "losses"
   ]
  },
  {
   "cell_type": "code",
   "execution_count": 36,
   "id": "b673ef95",
   "metadata": {},
   "outputs": [],
   "source": [
    "losses = pd.DataFrame(nn_model.history.history)\n"
   ]
  },
  {
   "cell_type": "code",
   "execution_count": 37,
   "id": "77fb04b6",
   "metadata": {},
   "outputs": [],
   "source": [
    "import matplotlib.pyplot as plt"
   ]
  },
  {
   "cell_type": "code",
   "execution_count": 38,
   "id": "efaa7de9",
   "metadata": {},
   "outputs": [],
   "source": [
    "import seaborn as sns"
   ]
  },
  {
   "cell_type": "code",
   "execution_count": 45,
   "id": "c659b7f2",
   "metadata": {},
   "outputs": [
    {
     "data": {
      "text/plain": [
       "<matplotlib.legend.Legend at 0x7f5a46f9d670>"
      ]
     },
     "execution_count": 45,
     "metadata": {},
     "output_type": "execute_result"
    },
    {
     "data": {
      "image/png": "[encoded data removed]",
      "text/plain": [
       "<Figure size 504x360 with 1 Axes>"
      ]
     },
     "metadata": {
      "needs_background": "light"
     },
     "output_type": "display_data"
    }
   ],
   "source": [
    "plt.figure(figsize=(7,5))\n",
    "plt.plot(losses['loss'], color='r')\n",
    "plt.plot(losses['val_loss'], color= 'b')\n",
    "plt.xlabel('Epochs')\n",
    "plt.ylabel('loss')\n",
    "plt.legend(['loss','validation_loss'])"
   ]
  },
  {
   "cell_type": "code",
   "execution_count": 13,
   "id": "bcb334a2",
   "metadata": {},
   "outputs": [
    {
     "ename": "NameError",
     "evalue": "name 'Sequential' is not defined",
     "output_type": "error",
     "traceback": [
      "\u001b[0;31m---------------------------------------------------------------------------\u001b[0m",
      "\u001b[0;31mNameError\u001b[0m                                 Traceback (most recent call last)",
      "\u001b[0;32m<ipython-input-13-d819f73245cb>\u001b[0m in \u001b[0;36m<module>\u001b[0;34m\u001b[0m\n\u001b[0;32m----> 1\u001b[0;31m \u001b[0mnn_model\u001b[0m \u001b[0;34m=\u001b[0m \u001b[0mSequential\u001b[0m\u001b[0;34m(\u001b[0m\u001b[0;34m)\u001b[0m\u001b[0;34m\u001b[0m\u001b[0;34m\u001b[0m\u001b[0m\n\u001b[0m\u001b[1;32m      2\u001b[0m \u001b[0mnn_model\u001b[0m\u001b[0;34m.\u001b[0m\u001b[0madd\u001b[0m\u001b[0;34m(\u001b[0m\u001b[0mDense\u001b[0m\u001b[0;34m(\u001b[0m\u001b[0;36m128\u001b[0m\u001b[0;34m,\u001b[0m \u001b[0mkernel_initializer\u001b[0m \u001b[0;34m=\u001b[0m \u001b[0;34m'normal'\u001b[0m\u001b[0;34m,\u001b[0m \u001b[0minput_dim\u001b[0m \u001b[0;34m=\u001b[0m \u001b[0mX_train_sc\u001b[0m\u001b[0;34m.\u001b[0m\u001b[0mshape\u001b[0m\u001b[0;34m[\u001b[0m\u001b[0;36m1\u001b[0m\u001b[0;34m]\u001b[0m\u001b[0;34m,\u001b[0m \u001b[0mactivation\u001b[0m \u001b[0;34m=\u001b[0m \u001b[0;34m'relu'\u001b[0m\u001b[0;34m)\u001b[0m\u001b[0;34m)\u001b[0m\u001b[0;34m\u001b[0m\u001b[0;34m\u001b[0m\u001b[0m\n\u001b[1;32m      3\u001b[0m \u001b[0mnn_model\u001b[0m\u001b[0;34m.\u001b[0m\u001b[0madd\u001b[0m\u001b[0;34m(\u001b[0m\u001b[0mDense\u001b[0m\u001b[0;34m(\u001b[0m\u001b[0;36m256\u001b[0m\u001b[0;34m,\u001b[0m \u001b[0mkernel_initializer\u001b[0m \u001b[0;34m=\u001b[0m \u001b[0;34m'normal'\u001b[0m\u001b[0;34m,\u001b[0m \u001b[0mactivation\u001b[0m \u001b[0;34m=\u001b[0m \u001b[0;34m'relu'\u001b[0m\u001b[0;34m)\u001b[0m\u001b[0;34m)\u001b[0m\u001b[0;34m\u001b[0m\u001b[0;34m\u001b[0m\u001b[0m\n\u001b[1;32m      4\u001b[0m \u001b[0mnn_model\u001b[0m\u001b[0;34m.\u001b[0m\u001b[0madd\u001b[0m\u001b[0;34m(\u001b[0m\u001b[0mDense\u001b[0m\u001b[0;34m(\u001b[0m\u001b[0;36m128\u001b[0m\u001b[0;34m,\u001b[0m \u001b[0mkernel_initializer\u001b[0m \u001b[0;34m=\u001b[0m \u001b[0;34m'normal'\u001b[0m\u001b[0;34m,\u001b[0m \u001b[0mactivation\u001b[0m \u001b[0;34m=\u001b[0m \u001b[0;34m'relu'\u001b[0m\u001b[0;34m)\u001b[0m\u001b[0;34m)\u001b[0m\u001b[0;34m\u001b[0m\u001b[0;34m\u001b[0m\u001b[0m\n\u001b[1;32m      5\u001b[0m \u001b[0mnn_model\u001b[0m\u001b[0;34m.\u001b[0m\u001b[0madd\u001b[0m\u001b[0;34m(\u001b[0m\u001b[0mDense\u001b[0m\u001b[0;34m(\u001b[0m\u001b[0;36m128\u001b[0m\u001b[0;34m,\u001b[0m \u001b[0mkernel_initializer\u001b[0m \u001b[0;34m=\u001b[0m \u001b[0;34m'normal'\u001b[0m\u001b[0;34m,\u001b[0m \u001b[0mactivation\u001b[0m \u001b[0;34m=\u001b[0m \u001b[0;34m'relu'\u001b[0m\u001b[0;34m)\u001b[0m\u001b[0;34m)\u001b[0m\u001b[0;34m\u001b[0m\u001b[0;34m\u001b[0m\u001b[0m\n",
      "\u001b[0;31mNameError\u001b[0m: name 'Sequential' is not defined"
     ]
    }
   ],
   "source": [
    "nn_model = Sequential()\n",
    "nn_model.add(Dense(128, kernel_initializer = 'normal', input_dim = X_train_sc.shape[1], activation = 'relu'))\n",
    "nn_model.add(Dense(256, kernel_initializer = 'normal', activation = 'relu'))\n",
    "nn_model.add(Dense(128, kernel_initializer = 'normal', activation = 'relu'))\n",
    "nn_model.add(Dense(128, kernel_initializer = 'normal', activation = 'relu'))\n",
    "nn_model.add(Dense(1, kernel_initializer='normal', activation= 'linear'))\n",
    "nn_model.compile(loss='mean_absolute_error', optimizer = 'adam', metrics = ['mean_absolute_error'])\n",
    "# nn_model.summary()"
   ]
  },
  {
   "cell_type": "code",
   "execution_count": 46,
   "id": "3c2dcdc9",
   "metadata": {},
   "outputs": [
    {
     "data": {
      "text/plain": [
       "<tensorflow.python.keras.callbacks.History at 0x7f5a47231df0>"
      ]
     },
     "execution_count": 46,
     "metadata": {},
     "output_type": "execute_result"
    }
   ],
   "source": [
    "nn_model.fit(X_train_sc, y_train, epochs=100, batch_size=30, validation_split=0.2, verbose=0)"
   ]
  },
  {
   "cell_type": "code",
   "execution_count": 48,
   "id": "b6de56d1",
   "metadata": {},
   "outputs": [
    {
     "data": {
      "text/plain": [
       "0.6958143822720586"
      ]
     },
     "execution_count": 48,
     "metadata": {},
     "output_type": "execute_result"
    }
   ],
   "source": [
    "y_p = nn_model.predict(X_test_sc)\n",
    "r2_score(y_test, y_p)"
   ]
  },
  {
   "cell_type": "code",
   "execution_count": 49,
   "id": "1c42e6e0",
   "metadata": {},
   "outputs": [
    {
     "data": {
      "text/plain": [
       "<AxesSubplot:>"
      ]
     },
     "execution_count": 49,
     "metadata": {},
     "output_type": "execute_result"
    },
    {
     "data": {
      "image/png": "[encoded data removed]",
      "text/plain": [
       "<Figure size 432x288 with 1 Axes>"
      ]
     },
     "metadata": {
      "needs_background": "light"
     },
     "output_type": "display_data"
    }
   ],
   "source": [
    "losses[['loss', 'val_loss']].plot()"
   ]
  },
  {
   "cell_type": "code",
   "execution_count": null,
   "id": "84823d92",
   "metadata": {},
   "outputs": [],
   "source": []
  },
  {
   "cell_type": "code",
   "execution_count": null,
   "id": "48bc1c7f",
   "metadata": {},
   "outputs": [],
   "source": []
  },
  {
   "cell_type": "code",
   "execution_count": null,
   "id": "f3a49bb2",
   "metadata": {},
   "outputs": [],
   "source": []
  },
  {
   "cell_type": "code",
   "execution_count": 50,
   "id": "0d788bc3",
   "metadata": {},
   "outputs": [],
   "source": [
    "nn_model = Sequential()\n",
    "nn_model.add(Dense(128, kernel_initializer = 'normal', input_dim = X_train_sc.shape[1], activation = 'relu'))\n",
    "nn_model.add(Dense(256, kernel_initializer = 'normal', activation = 'relu'))\n",
    "nn_model.add(Dense(128, kernel_initializer = 'normal', activation = 'relu'))\n",
    "nn_model.add(Dense(128, kernel_initializer = 'normal', activation = 'relu'))\n",
    "nn_model.add(Dense(1, kernel_initializer='normal', activation= 'linear'))\n",
    "nn_model.compile(loss='mean_absolute_error', optimizer = 'adam', metrics = ['mean_absolute_error'])\n",
    "# nn_model.summary()"
   ]
  },
  {
   "cell_type": "code",
   "execution_count": 55,
   "id": "854df2d0",
   "metadata": {},
   "outputs": [
    {
     "data": {
      "text/plain": [
       "<tensorflow.python.keras.callbacks.History at 0x7f5a4445dc10>"
      ]
     },
     "execution_count": 55,
     "metadata": {},
     "output_type": "execute_result"
    }
   ],
   "source": [
    "nn_model.fit(X_train_sc, y_train, epochs=150, batch_size=30, validation_split=0.2, verbose=0)"
   ]
  },
  {
   "cell_type": "code",
   "execution_count": 56,
   "id": "57b24248",
   "metadata": {},
   "outputs": [
    {
     "data": {
      "text/plain": [
       "0.6590970159476371"
      ]
     },
     "execution_count": 56,
     "metadata": {},
     "output_type": "execute_result"
    }
   ],
   "source": [
    "y_pred = nn_model.predict(X_test_sc)\n",
    "r2_score(y_test, y_pred)"
   ]
  },
  {
   "cell_type": "code",
   "execution_count": null,
   "id": "f10d7f47",
   "metadata": {},
   "outputs": [],
   "source": []
  },
  {
   "cell_type": "code",
   "execution_count": 59,
   "id": "ff1bc310",
   "metadata": {},
   "outputs": [
    {
     "data": {
      "text/plain": [
       "<tensorflow.python.keras.callbacks.History at 0x7f5a45dda1c0>"
      ]
     },
     "execution_count": 59,
     "metadata": {},
     "output_type": "execute_result"
    }
   ],
   "source": [
    "nn_model.fit(X_train_sc, y_train, epochs=300, batch_size=30, validation_split=0.2, verbose=0)"
   ]
  },
  {
   "cell_type": "code",
   "execution_count": 60,
   "id": "ed4a249f",
   "metadata": {},
   "outputs": [
    {
     "data": {
      "text/plain": [
       "0.6978710215342181"
      ]
     },
     "execution_count": 60,
     "metadata": {},
     "output_type": "execute_result"
    }
   ],
   "source": [
    "y_pred = nn_model.predict(X_test_sc)\n",
    "r2_score(y_test, y_pred)"
   ]
  },
  {
   "cell_type": "code",
   "execution_count": 61,
   "id": "63d18d73",
   "metadata": {},
   "outputs": [
    {
     "data": {
      "text/plain": [
       "{}"
      ]
     },
     "execution_count": 61,
     "metadata": {},
     "output_type": "execute_result"
    }
   ],
   "source": [
    "nn_model.history.history"
   ]
  },
  {
   "cell_type": "code",
   "execution_count": null,
   "id": "f939b6de",
   "metadata": {},
   "outputs": [],
   "source": []
  },
  {
   "cell_type": "code",
   "execution_count": 21,
   "id": "2f9e09c6",
   "metadata": {},
   "outputs": [
    {
     "data": {
      "text/plain": [
       "-1.3877498089652809"
      ]
     },
     "execution_count": 21,
     "metadata": {},
     "output_type": "execute_result"
    }
   ],
   "source": [
    "# y_pred_w0_scale = nn_model.predict(X_test)\n",
    "# r2_score(y_test, y_pred_w0_scale)"
   ]
  },
  {
   "cell_type": "code",
   "execution_count": null,
   "id": "8d91e798",
   "metadata": {},
   "outputs": [],
   "source": []
  },
  {
   "cell_type": "code",
   "execution_count": null,
   "id": "fa7d41cb",
   "metadata": {},
   "outputs": [],
   "source": []
  },
  {
   "cell_type": "code",
   "execution_count": null,
   "id": "a59669f4",
   "metadata": {},
   "outputs": [],
   "source": []
  },
  {
   "cell_type": "code",
   "execution_count": 35,
   "id": "fcd6e17a",
   "metadata": {},
   "outputs": [
    {
     "data": {
      "text/plain": [
       "0.5793488621015024"
      ]
     },
     "execution_count": 35,
     "metadata": {},
     "output_type": "execute_result"
    }
   ],
   "source": [
    "y_pred_nn_new = nn_model.predict(X_test_sc)\n",
    "r2_score(y_test, y_pred_nn_new)"
   ]
  },
  {
   "cell_type": "code",
   "execution_count": 37,
   "id": "8ebbb529",
   "metadata": {},
   "outputs": [
    {
     "data": {
      "text/html": [
       "<div>\n",
       "<style scoped>\n",
       "    .dataframe tbody tr th:only-of-type {\n",
       "        vertical-align: middle;\n",
       "    }\n",
       "\n",
       "    .dataframe tbody tr th {\n",
       "        vertical-align: top;\n",
       "    }\n",
       "\n",
       "    .dataframe thead th {\n",
       "        text-align: right;\n",
       "    }\n",
       "</style>\n",
       "<table border=\"1\" class=\"dataframe\">\n",
       "  <thead>\n",
       "    <tr style=\"text-align: right;\">\n",
       "      <th></th>\n",
       "    </tr>\n",
       "  </thead>\n",
       "  <tbody>\n",
       "  </tbody>\n",
       "</table>\n",
       "</div>"
      ],
      "text/plain": [
       "Empty DataFrame\n",
       "Columns: []\n",
       "Index: []"
      ]
     },
     "execution_count": 37,
     "metadata": {},
     "output_type": "execute_result"
    }
   ],
   "source": [
    "pd.DataFrame(nn_model.history.history)"
   ]
  },
  {
   "cell_type": "code",
   "execution_count": 54,
   "id": "1f30f748",
   "metadata": {},
   "outputs": [
    {
     "data": {
      "text/plain": [
       "0.6822388297369701"
      ]
     },
     "execution_count": 54,
     "metadata": {},
     "output_type": "execute_result"
    }
   ],
   "source": [
    "y_pred_nn_new = nn_model.predict(X_test_sc)\n",
    "r2_score(y_test, y_pred_nn_new)"
   ]
  },
  {
   "cell_type": "code",
   "execution_count": null,
   "id": "c846c3c5",
   "metadata": {},
   "outputs": [],
   "source": []
  },
  {
   "cell_type": "code",
   "execution_count": 128,
   "id": "73fc40c0",
   "metadata": {},
   "outputs": [
    {
     "data": {
      "text/plain": [
       "0.57425869272021"
      ]
     },
     "execution_count": 128,
     "metadata": {},
     "output_type": "execute_result"
    }
   ],
   "source": [
    "y_pred_nn_new = nn_model.predict(X_test_sc)\n",
    "r2_score(y_test, y_pred_nn_new)"
   ]
  },
  {
   "cell_type": "code",
   "execution_count": null,
   "id": "71f202bd",
   "metadata": {},
   "outputs": [],
   "source": [
    "#Source: https://towardsdatascience.com/deep-neural-networks-for-regression-problems-81321897ca33\n",
    "NN_model = Sequential()\n",
    "\n",
    "# The Input Layer :\n",
    "NN_model.add(Dense(128, kernel_initializer='normal',input_dim = train.shape[1], activation='relu'))\n",
    "\n",
    "# The Hidden Layers :\n",
    "NN_model.add(Dense(256, kernel_initializer='normal',activation='relu'))\n",
    "NN_model.add(Dense(256, kernel_initializer='normal',activation='relu'))\n",
    "NN_model.add(Dense(256, kernel_initializer='normal',activation='relu'))\n",
    "\n",
    "# The Output Layer :\n",
    "NN_model.add(Dense(1, kernel_initializer='normal',activation='linear'))\n",
    "\n",
    "# Compile the network :\n",
    "NN_model.compile(loss='mean_absolute_error', optimizer='adam', metrics=['mean_absolute_error'])\n",
    "NN_model.summary()\n",
    "\n",
    "NN_model.fit(train, target, epochs=500, batch_size=32, validation_split = 0.2, callbacks=callbacks_list)\n"
   ]
  },
  {
   "cell_type": "code",
   "execution_count": null,
   "id": "117872fd",
   "metadata": {},
   "outputs": [],
   "source": []
  },
  {
   "cell_type": "code",
   "execution_count": null,
   "id": "ec6f7f48",
   "metadata": {},
   "outputs": [],
   "source": []
  },
  {
   "cell_type": "code",
   "execution_count": null,
   "id": "d1632e13",
   "metadata": {},
   "outputs": [],
   "source": []
  },
  {
   "cell_type": "code",
   "execution_count": 52,
   "id": "023fa569",
   "metadata": {},
   "outputs": [],
   "source": [
    "from sklearn.metrics import mean_squared_error"
   ]
  },
  {
   "cell_type": "code",
   "execution_count": 53,
   "id": "70fea98e",
   "metadata": {},
   "outputs": [
    {
     "data": {
      "text/plain": [
       "25324066.375388034"
      ]
     },
     "execution_count": 53,
     "metadata": {},
     "output_type": "execute_result"
    }
   ],
   "source": [
    "mean_squared_error(y_test, y_pred_nn2)"
   ]
  },
  {
   "cell_type": "code",
   "execution_count": 70,
   "id": "bc17c10b",
   "metadata": {},
   "outputs": [
    {
     "data": {
      "text/plain": [
       "numpy.ndarray"
      ]
     },
     "execution_count": 70,
     "metadata": {},
     "output_type": "execute_result"
    }
   ],
   "source": [
    "type(y_pred_nn2)"
   ]
  },
  {
   "cell_type": "code",
   "execution_count": 90,
   "id": "a4eab310",
   "metadata": {},
   "outputs": [
    {
     "data": {
      "text/plain": [
       "(82,)"
      ]
     },
     "execution_count": 90,
     "metadata": {},
     "output_type": "execute_result"
    }
   ],
   "source": []
  },
  {
   "cell_type": "code",
   "execution_count": 86,
   "id": "7b64ed8c",
   "metadata": {},
   "outputs": [],
   "source": [
    "y_nn = y_pred_nn2.flatten()"
   ]
  },
  {
   "cell_type": "code",
   "execution_count": 96,
   "id": "60b245eb",
   "metadata": {},
   "outputs": [],
   "source": [
    "dfn= pd.DataFrame({'Y_nn':y_nn,'Treu': y_test})"
   ]
  },
  {
   "cell_type": "code",
   "execution_count": 98,
   "id": "1813dc1a",
   "metadata": {},
   "outputs": [],
   "source": [
    "dfn['diff']= dfn['Y_nn']- dfn['Treu'] "
   ]
  },
  {
   "cell_type": "code",
   "execution_count": 99,
   "id": "4c553aaf",
   "metadata": {},
   "outputs": [
    {
     "data": {
      "text/html": [
       "<div>\n",
       "<style scoped>\n",
       "    .dataframe tbody tr th:only-of-type {\n",
       "        vertical-align: middle;\n",
       "    }\n",
       "\n",
       "    .dataframe tbody tr th {\n",
       "        vertical-align: top;\n",
       "    }\n",
       "\n",
       "    .dataframe thead th {\n",
       "        text-align: right;\n",
       "    }\n",
       "</style>\n",
       "<table border=\"1\" class=\"dataframe\">\n",
       "  <thead>\n",
       "    <tr style=\"text-align: right;\">\n",
       "      <th></th>\n",
       "      <th>Y_nn</th>\n",
       "      <th>Treu</th>\n",
       "      <th>diff</th>\n",
       "    </tr>\n",
       "  </thead>\n",
       "  <tbody>\n",
       "    <tr>\n",
       "      <th>241</th>\n",
       "      <td>755.446594</td>\n",
       "      <td>13.784094</td>\n",
       "      <td>741.662500</td>\n",
       "    </tr>\n",
       "    <tr>\n",
       "      <th>299</th>\n",
       "      <td>1181.776245</td>\n",
       "      <td>13.502833</td>\n",
       "      <td>1168.273412</td>\n",
       "    </tr>\n",
       "    <tr>\n",
       "      <th>301</th>\n",
       "      <td>1220.811523</td>\n",
       "      <td>13.885555</td>\n",
       "      <td>1206.925969</td>\n",
       "    </tr>\n",
       "    <tr>\n",
       "      <th>352</th>\n",
       "      <td>956.489990</td>\n",
       "      <td>15.654718</td>\n",
       "      <td>940.835272</td>\n",
       "    </tr>\n",
       "    <tr>\n",
       "      <th>102</th>\n",
       "      <td>4649.906738</td>\n",
       "      <td>16.412411</td>\n",
       "      <td>4633.494327</td>\n",
       "    </tr>\n",
       "    <tr>\n",
       "      <th>...</th>\n",
       "      <td>...</td>\n",
       "      <td>...</td>\n",
       "      <td>...</td>\n",
       "    </tr>\n",
       "    <tr>\n",
       "      <th>68</th>\n",
       "      <td>6384.238770</td>\n",
       "      <td>16.249403</td>\n",
       "      <td>6367.989367</td>\n",
       "    </tr>\n",
       "    <tr>\n",
       "      <th>20</th>\n",
       "      <td>14039.345703</td>\n",
       "      <td>13.044722</td>\n",
       "      <td>14026.300981</td>\n",
       "    </tr>\n",
       "    <tr>\n",
       "      <th>153</th>\n",
       "      <td>1102.748291</td>\n",
       "      <td>18.465009</td>\n",
       "      <td>1084.283282</td>\n",
       "    </tr>\n",
       "    <tr>\n",
       "      <th>14</th>\n",
       "      <td>11699.763672</td>\n",
       "      <td>13.365940</td>\n",
       "      <td>11686.397732</td>\n",
       "    </tr>\n",
       "    <tr>\n",
       "      <th>398</th>\n",
       "      <td>893.527771</td>\n",
       "      <td>15.933171</td>\n",
       "      <td>877.594600</td>\n",
       "    </tr>\n",
       "  </tbody>\n",
       "</table>\n",
       "<p>82 rows × 3 columns</p>\n",
       "</div>"
      ],
      "text/plain": [
       "             Y_nn       Treu          diff\n",
       "241    755.446594  13.784094    741.662500\n",
       "299   1181.776245  13.502833   1168.273412\n",
       "301   1220.811523  13.885555   1206.925969\n",
       "352    956.489990  15.654718    940.835272\n",
       "102   4649.906738  16.412411   4633.494327\n",
       "..            ...        ...           ...\n",
       "68    6384.238770  16.249403   6367.989367\n",
       "20   14039.345703  13.044722  14026.300981\n",
       "153   1102.748291  18.465009   1084.283282\n",
       "14   11699.763672  13.365940  11686.397732\n",
       "398    893.527771  15.933171    877.594600\n",
       "\n",
       "[82 rows x 3 columns]"
      ]
     },
     "execution_count": 99,
     "metadata": {},
     "output_type": "execute_result"
    }
   ],
   "source": [
    "dfn"
   ]
  },
  {
   "cell_type": "code",
   "execution_count": 161,
   "id": "19a869cb",
   "metadata": {},
   "outputs": [],
   "source": [
    "y_pred_nn= model.predict(X_test) #epoach 300"
   ]
  },
  {
   "cell_type": "code",
   "execution_count": 162,
   "id": "25433c8f",
   "metadata": {},
   "outputs": [
    {
     "data": {
      "text/plain": [
       "-197.7713461023503"
      ]
     },
     "execution_count": 162,
     "metadata": {},
     "output_type": "execute_result"
    }
   ],
   "source": [
    "r2_score(y_test, y_pred_nn)"
   ]
  }
 ],
 "metadata": {
  "kernelspec": {
   "display_name": "Python 3 (ipykernel)",
   "language": "python",
   "name": "python3"
  },
  "language_info": {
   "codemirror_mode": {
    "name": "ipython",
    "version": 3
   },
   "file_extension": ".py",
   "mimetype": "text/x-python",
   "name": "python",
   "nbconvert_exporter": "python",
   "pygments_lexer": "ipython3",
   "version": "3.9.2"
  }
 },
 "nbformat": 4,
 "nbformat_minor": 5
}
