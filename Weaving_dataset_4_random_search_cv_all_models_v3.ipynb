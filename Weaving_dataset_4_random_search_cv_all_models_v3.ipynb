{
  "cells": [
    {
      "cell_type": "markdown",
      "metadata": {
        "id": "view-in-github",
        "colab_type": "text"
      },
      "source": [
        "<a href=\"https://colab.research.google.com/github/utopian18/Machine_Learning_in_Textile/blob/main/Weaving_dataset_4_random_search_cv_all_models_v3.ipynb\" target=\"_parent\"><img src=\"https://colab.research.google.com/assets/colab-badge.svg\" alt=\"Open In Colab\"/></a>"
      ]
    },
    {
      "cell_type": "code",
      "execution_count": 2,
      "metadata": {
        "colab": {
          "base_uri": "https://localhost:8080/"
        },
        "id": "pHbWIE1hAMuT",
        "outputId": "60485c68-2b5e-4a2d-ae38-d0cc7cd4f1d1"
      },
      "outputs": [
        {
          "output_type": "stream",
          "name": "stdout",
          "text": [
            "Collecting catboost\n",
            "  Downloading catboost-1.2.2-cp310-cp310-manylinux2014_x86_64.whl (98.7 MB)\n",
            "\u001b[2K     \u001b[90m━━━━━━━━━━━━━━━━━━━━━━━━━━━━━━━━━━━━━━━━\u001b[0m \u001b[32m98.7/98.7 MB\u001b[0m \u001b[31m6.3 MB/s\u001b[0m eta \u001b[36m0:00:00\u001b[0m\n",
            "\u001b[?25hRequirement already satisfied: graphviz in /usr/local/lib/python3.10/dist-packages (from catboost) (0.20.1)\n",
            "Requirement already satisfied: matplotlib in /usr/local/lib/python3.10/dist-packages (from catboost) (3.7.1)\n",
            "Requirement already satisfied: numpy>=1.16.0 in /usr/local/lib/python3.10/dist-packages (from catboost) (1.23.5)\n",
            "Requirement already satisfied: pandas>=0.24 in /usr/local/lib/python3.10/dist-packages (from catboost) (1.5.3)\n",
            "Requirement already satisfied: scipy in /usr/local/lib/python3.10/dist-packages (from catboost) (1.11.2)\n",
            "Requirement already satisfied: plotly in /usr/local/lib/python3.10/dist-packages (from catboost) (5.15.0)\n",
            "Requirement already satisfied: six in /usr/local/lib/python3.10/dist-packages (from catboost) (1.16.0)\n",
            "Requirement already satisfied: python-dateutil>=2.8.1 in /usr/local/lib/python3.10/dist-packages (from pandas>=0.24->catboost) (2.8.2)\n",
            "Requirement already satisfied: pytz>=2020.1 in /usr/local/lib/python3.10/dist-packages (from pandas>=0.24->catboost) (2023.3.post1)\n",
            "Requirement already satisfied: contourpy>=1.0.1 in /usr/local/lib/python3.10/dist-packages (from matplotlib->catboost) (1.1.0)\n",
            "Requirement already satisfied: cycler>=0.10 in /usr/local/lib/python3.10/dist-packages (from matplotlib->catboost) (0.11.0)\n",
            "Requirement already satisfied: fonttools>=4.22.0 in /usr/local/lib/python3.10/dist-packages (from matplotlib->catboost) (4.42.1)\n",
            "Requirement already satisfied: kiwisolver>=1.0.1 in /usr/local/lib/python3.10/dist-packages (from matplotlib->catboost) (1.4.5)\n",
            "Requirement already satisfied: packaging>=20.0 in /usr/local/lib/python3.10/dist-packages (from matplotlib->catboost) (23.1)\n",
            "Requirement already satisfied: pillow>=6.2.0 in /usr/local/lib/python3.10/dist-packages (from matplotlib->catboost) (9.4.0)\n",
            "Requirement already satisfied: pyparsing>=2.3.1 in /usr/local/lib/python3.10/dist-packages (from matplotlib->catboost) (3.1.1)\n",
            "Requirement already satisfied: tenacity>=6.2.0 in /usr/local/lib/python3.10/dist-packages (from plotly->catboost) (8.2.3)\n",
            "Installing collected packages: catboost\n",
            "Successfully installed catboost-1.2.2\n"
          ]
        }
      ],
      "source": [
        "!pip install catboost"
      ]
    },
    {
      "cell_type": "code",
      "source": [
        "from google.colab import drive\n",
        "drive.mount('/content/drive')"
      ],
      "metadata": {
        "colab": {
          "base_uri": "https://localhost:8080/"
        },
        "id": "nJdkPlz6F6aR",
        "outputId": "3ed3d298-510e-4638-fb1f-d24f7f659ea8"
      },
      "execution_count": 3,
      "outputs": [
        {
          "output_type": "stream",
          "name": "stdout",
          "text": [
            "Mounted at /content/drive\n"
          ]
        }
      ]
    },
    {
      "cell_type": "code",
      "execution_count": 4,
      "metadata": {
        "id": "IiWMK4uj_s1K"
      },
      "outputs": [],
      "source": [
        "#importing required libraries\n",
        "import pandas as pd\n",
        "from sklearn.model_selection import train_test_split\n",
        "from sklearn.preprocessing import OneHotEncoder\n",
        "from sklearn.metrics import r2_score\n",
        "from catboost import CatBoostRegressor\n",
        "from xgboost import XGBRegressor\n",
        "import lightgbm\n",
        "from sklearn.ensemble import RandomForestRegressor, AdaBoostRegressor\n",
        "from sklearn.linear_model import LinearRegression, Lasso, Ridge, ElasticNet, ElasticNetCV\n",
        "from sklearn.tree import DecisionTreeRegressor\n",
        "from sklearn.neighbors import KNeighborsRegressor\n",
        "from sklearn.svm import SVR\n",
        "from sklearn.model_selection import StratifiedKFold, train_test_split, cross_val_score\n",
        "from sklearn.model_selection import RandomizedSearchCV\n",
        "from sklearn.metrics import r2_score\n",
        "import numpy as np"
      ]
    },
    {
      "cell_type": "code",
      "execution_count": 5,
      "metadata": {
        "id": "-97RBe91_51z"
      },
      "outputs": [],
      "source": [
        "#imporing dataset\n",
        "df = pd.read_csv('/content/drive/MyDrive/python 2023/weaving_rejection_dataset - original.csv')"
      ]
    },
    {
      "cell_type": "code",
      "execution_count": 6,
      "metadata": {
        "colab": {
          "base_uri": "https://localhost:8080/",
          "height": 244
        },
        "id": "yi-Nk4FCBRJf",
        "outputId": "c6da065c-3fb6-4537-9f8a-c145fa1c5491"
      },
      "outputs": [
        {
          "output_type": "execute_result",
          "data": {
            "text/plain": [
              "        Construction  Req_Finish_Fabrics  Fabric_Allowance  \\\n",
              "0  40+40/2/40/110x80             31300.0               6.0   \n",
              "1       40x40/110x90             10450.0               7.0   \n",
              "2       40x40/110x80               900.0              11.5   \n",
              "3       40x40/130x80              8000.0               8.0   \n",
              "4       50x50/140x70              3500.0               8.1   \n",
              "\n",
              "   Rec_Beam_length(yds)  Shrink_allow Previous_pdn  Req_grey_fabric  \\\n",
              "0            38286.9360          12.5        TOTAL     33297.872340   \n",
              "1            13057.5840          14.5        TOTAL     11236.559140   \n",
              "2             1902.8640          12.5        TOTAL      1016.949153   \n",
              "3            10093.9280          14.0        TOTAL      8695.652174   \n",
              "4            69146.1408           9.1        TOTAL      3808.487486   \n",
              "\n",
              "   Req_beam_length(yds)  Total_Pdn(yds)  Rejection warp_count  weft_count  \\\n",
              "0          34797.651103         27646.0        285  double_40        80.0   \n",
              "1          12017.350432         11019.0         39         40        40.0   \n",
              "2           1062.753843          1528.0          0         40        40.0   \n",
              "3           9245.815159          8944.0         58         40        40.0   \n",
              "4           3831.158751         59367.0       1043         50        50.0   \n",
              "\n",
              "   epi  ppi  \n",
              "0  110   80  \n",
              "1  110   90  \n",
              "2  110   80  \n",
              "3  130   80  \n",
              "4  140   70  "
            ],
            "text/html": [
              "\n",
              "  <div id=\"df-9961575e-b128-4744-a2bd-641bb3bf9641\" class=\"colab-df-container\">\n",
              "    <div>\n",
              "<style scoped>\n",
              "    .dataframe tbody tr th:only-of-type {\n",
              "        vertical-align: middle;\n",
              "    }\n",
              "\n",
              "    .dataframe tbody tr th {\n",
              "        vertical-align: top;\n",
              "    }\n",
              "\n",
              "    .dataframe thead th {\n",
              "        text-align: right;\n",
              "    }\n",
              "</style>\n",
              "<table border=\"1\" class=\"dataframe\">\n",
              "  <thead>\n",
              "    <tr style=\"text-align: right;\">\n",
              "      <th></th>\n",
              "      <th>Construction</th>\n",
              "      <th>Req_Finish_Fabrics</th>\n",
              "      <th>Fabric_Allowance</th>\n",
              "      <th>Rec_Beam_length(yds)</th>\n",
              "      <th>Shrink_allow</th>\n",
              "      <th>Previous_pdn</th>\n",
              "      <th>Req_grey_fabric</th>\n",
              "      <th>Req_beam_length(yds)</th>\n",
              "      <th>Total_Pdn(yds)</th>\n",
              "      <th>Rejection</th>\n",
              "      <th>warp_count</th>\n",
              "      <th>weft_count</th>\n",
              "      <th>epi</th>\n",
              "      <th>ppi</th>\n",
              "    </tr>\n",
              "  </thead>\n",
              "  <tbody>\n",
              "    <tr>\n",
              "      <th>0</th>\n",
              "      <td>40+40/2/40/110x80</td>\n",
              "      <td>31300.0</td>\n",
              "      <td>6.0</td>\n",
              "      <td>38286.9360</td>\n",
              "      <td>12.5</td>\n",
              "      <td>TOTAL</td>\n",
              "      <td>33297.872340</td>\n",
              "      <td>34797.651103</td>\n",
              "      <td>27646.0</td>\n",
              "      <td>285</td>\n",
              "      <td>double_40</td>\n",
              "      <td>80.0</td>\n",
              "      <td>110</td>\n",
              "      <td>80</td>\n",
              "    </tr>\n",
              "    <tr>\n",
              "      <th>1</th>\n",
              "      <td>40x40/110x90</td>\n",
              "      <td>10450.0</td>\n",
              "      <td>7.0</td>\n",
              "      <td>13057.5840</td>\n",
              "      <td>14.5</td>\n",
              "      <td>TOTAL</td>\n",
              "      <td>11236.559140</td>\n",
              "      <td>12017.350432</td>\n",
              "      <td>11019.0</td>\n",
              "      <td>39</td>\n",
              "      <td>40</td>\n",
              "      <td>40.0</td>\n",
              "      <td>110</td>\n",
              "      <td>90</td>\n",
              "    </tr>\n",
              "    <tr>\n",
              "      <th>2</th>\n",
              "      <td>40x40/110x80</td>\n",
              "      <td>900.0</td>\n",
              "      <td>11.5</td>\n",
              "      <td>1902.8640</td>\n",
              "      <td>12.5</td>\n",
              "      <td>TOTAL</td>\n",
              "      <td>1016.949153</td>\n",
              "      <td>1062.753843</td>\n",
              "      <td>1528.0</td>\n",
              "      <td>0</td>\n",
              "      <td>40</td>\n",
              "      <td>40.0</td>\n",
              "      <td>110</td>\n",
              "      <td>80</td>\n",
              "    </tr>\n",
              "    <tr>\n",
              "      <th>3</th>\n",
              "      <td>40x40/130x80</td>\n",
              "      <td>8000.0</td>\n",
              "      <td>8.0</td>\n",
              "      <td>10093.9280</td>\n",
              "      <td>14.0</td>\n",
              "      <td>TOTAL</td>\n",
              "      <td>8695.652174</td>\n",
              "      <td>9245.815159</td>\n",
              "      <td>8944.0</td>\n",
              "      <td>58</td>\n",
              "      <td>40</td>\n",
              "      <td>40.0</td>\n",
              "      <td>130</td>\n",
              "      <td>80</td>\n",
              "    </tr>\n",
              "    <tr>\n",
              "      <th>4</th>\n",
              "      <td>50x50/140x70</td>\n",
              "      <td>3500.0</td>\n",
              "      <td>8.1</td>\n",
              "      <td>69146.1408</td>\n",
              "      <td>9.1</td>\n",
              "      <td>TOTAL</td>\n",
              "      <td>3808.487486</td>\n",
              "      <td>3831.158751</td>\n",
              "      <td>59367.0</td>\n",
              "      <td>1043</td>\n",
              "      <td>50</td>\n",
              "      <td>50.0</td>\n",
              "      <td>140</td>\n",
              "      <td>70</td>\n",
              "    </tr>\n",
              "  </tbody>\n",
              "</table>\n",
              "</div>\n",
              "    <div class=\"colab-df-buttons\">\n",
              "\n",
              "  <div class=\"colab-df-container\">\n",
              "    <button class=\"colab-df-convert\" onclick=\"convertToInteractive('df-9961575e-b128-4744-a2bd-641bb3bf9641')\"\n",
              "            title=\"Convert this dataframe to an interactive table.\"\n",
              "            style=\"display:none;\">\n",
              "\n",
              "  <svg xmlns=\"http://www.w3.org/2000/svg\" height=\"24px\" viewBox=\"0 -960 960 960\">\n",
              "    <path d=\"M120-120v-720h720v720H120Zm60-500h600v-160H180v160Zm220 220h160v-160H400v160Zm0 220h160v-160H400v160ZM180-400h160v-160H180v160Zm440 0h160v-160H620v160ZM180-180h160v-160H180v160Zm440 0h160v-160H620v160Z\"/>\n",
              "  </svg>\n",
              "    </button>\n",
              "\n",
              "  <style>\n",
              "    .colab-df-container {\n",
              "      display:flex;\n",
              "      gap: 12px;\n",
              "    }\n",
              "\n",
              "    .colab-df-convert {\n",
              "      background-color: #E8F0FE;\n",
              "      border: none;\n",
              "      border-radius: 50%;\n",
              "      cursor: pointer;\n",
              "      display: none;\n",
              "      fill: #1967D2;\n",
              "      height: 32px;\n",
              "      padding: 0 0 0 0;\n",
              "      width: 32px;\n",
              "    }\n",
              "\n",
              "    .colab-df-convert:hover {\n",
              "      background-color: #E2EBFA;\n",
              "      box-shadow: 0px 1px 2px rgba(60, 64, 67, 0.3), 0px 1px 3px 1px rgba(60, 64, 67, 0.15);\n",
              "      fill: #174EA6;\n",
              "    }\n",
              "\n",
              "    .colab-df-buttons div {\n",
              "      margin-bottom: 4px;\n",
              "    }\n",
              "\n",
              "    [theme=dark] .colab-df-convert {\n",
              "      background-color: #3B4455;\n",
              "      fill: #D2E3FC;\n",
              "    }\n",
              "\n",
              "    [theme=dark] .colab-df-convert:hover {\n",
              "      background-color: #434B5C;\n",
              "      box-shadow: 0px 1px 3px 1px rgba(0, 0, 0, 0.15);\n",
              "      filter: drop-shadow(0px 1px 2px rgba(0, 0, 0, 0.3));\n",
              "      fill: #FFFFFF;\n",
              "    }\n",
              "  </style>\n",
              "\n",
              "    <script>\n",
              "      const buttonEl =\n",
              "        document.querySelector('#df-9961575e-b128-4744-a2bd-641bb3bf9641 button.colab-df-convert');\n",
              "      buttonEl.style.display =\n",
              "        google.colab.kernel.accessAllowed ? 'block' : 'none';\n",
              "\n",
              "      async function convertToInteractive(key) {\n",
              "        const element = document.querySelector('#df-9961575e-b128-4744-a2bd-641bb3bf9641');\n",
              "        const dataTable =\n",
              "          await google.colab.kernel.invokeFunction('convertToInteractive',\n",
              "                                                    [key], {});\n",
              "        if (!dataTable) return;\n",
              "\n",
              "        const docLinkHtml = 'Like what you see? Visit the ' +\n",
              "          '<a target=\"_blank\" href=https://colab.research.google.com/notebooks/data_table.ipynb>data table notebook</a>'\n",
              "          + ' to learn more about interactive tables.';\n",
              "        element.innerHTML = '';\n",
              "        dataTable['output_type'] = 'display_data';\n",
              "        await google.colab.output.renderOutput(dataTable, element);\n",
              "        const docLink = document.createElement('div');\n",
              "        docLink.innerHTML = docLinkHtml;\n",
              "        element.appendChild(docLink);\n",
              "      }\n",
              "    </script>\n",
              "  </div>\n",
              "\n",
              "\n",
              "<div id=\"df-9f2e6ea1-c036-45ea-85f3-cf5c6836017d\">\n",
              "  <button class=\"colab-df-quickchart\" onclick=\"quickchart('df-9f2e6ea1-c036-45ea-85f3-cf5c6836017d')\"\n",
              "            title=\"Suggest charts.\"\n",
              "            style=\"display:none;\">\n",
              "\n",
              "<svg xmlns=\"http://www.w3.org/2000/svg\" height=\"24px\"viewBox=\"0 0 24 24\"\n",
              "     width=\"24px\">\n",
              "    <g>\n",
              "        <path d=\"M19 3H5c-1.1 0-2 .9-2 2v14c0 1.1.9 2 2 2h14c1.1 0 2-.9 2-2V5c0-1.1-.9-2-2-2zM9 17H7v-7h2v7zm4 0h-2V7h2v10zm4 0h-2v-4h2v4z\"/>\n",
              "    </g>\n",
              "</svg>\n",
              "  </button>\n",
              "\n",
              "<style>\n",
              "  .colab-df-quickchart {\n",
              "      --bg-color: #E8F0FE;\n",
              "      --fill-color: #1967D2;\n",
              "      --hover-bg-color: #E2EBFA;\n",
              "      --hover-fill-color: #174EA6;\n",
              "      --disabled-fill-color: #AAA;\n",
              "      --disabled-bg-color: #DDD;\n",
              "  }\n",
              "\n",
              "  [theme=dark] .colab-df-quickchart {\n",
              "      --bg-color: #3B4455;\n",
              "      --fill-color: #D2E3FC;\n",
              "      --hover-bg-color: #434B5C;\n",
              "      --hover-fill-color: #FFFFFF;\n",
              "      --disabled-bg-color: #3B4455;\n",
              "      --disabled-fill-color: #666;\n",
              "  }\n",
              "\n",
              "  .colab-df-quickchart {\n",
              "    background-color: var(--bg-color);\n",
              "    border: none;\n",
              "    border-radius: 50%;\n",
              "    cursor: pointer;\n",
              "    display: none;\n",
              "    fill: var(--fill-color);\n",
              "    height: 32px;\n",
              "    padding: 0;\n",
              "    width: 32px;\n",
              "  }\n",
              "\n",
              "  .colab-df-quickchart:hover {\n",
              "    background-color: var(--hover-bg-color);\n",
              "    box-shadow: 0 1px 2px rgba(60, 64, 67, 0.3), 0 1px 3px 1px rgba(60, 64, 67, 0.15);\n",
              "    fill: var(--button-hover-fill-color);\n",
              "  }\n",
              "\n",
              "  .colab-df-quickchart-complete:disabled,\n",
              "  .colab-df-quickchart-complete:disabled:hover {\n",
              "    background-color: var(--disabled-bg-color);\n",
              "    fill: var(--disabled-fill-color);\n",
              "    box-shadow: none;\n",
              "  }\n",
              "\n",
              "  .colab-df-spinner {\n",
              "    border: 2px solid var(--fill-color);\n",
              "    border-color: transparent;\n",
              "    border-bottom-color: var(--fill-color);\n",
              "    animation:\n",
              "      spin 1s steps(1) infinite;\n",
              "  }\n",
              "\n",
              "  @keyframes spin {\n",
              "    0% {\n",
              "      border-color: transparent;\n",
              "      border-bottom-color: var(--fill-color);\n",
              "      border-left-color: var(--fill-color);\n",
              "    }\n",
              "    20% {\n",
              "      border-color: transparent;\n",
              "      border-left-color: var(--fill-color);\n",
              "      border-top-color: var(--fill-color);\n",
              "    }\n",
              "    30% {\n",
              "      border-color: transparent;\n",
              "      border-left-color: var(--fill-color);\n",
              "      border-top-color: var(--fill-color);\n",
              "      border-right-color: var(--fill-color);\n",
              "    }\n",
              "    40% {\n",
              "      border-color: transparent;\n",
              "      border-right-color: var(--fill-color);\n",
              "      border-top-color: var(--fill-color);\n",
              "    }\n",
              "    60% {\n",
              "      border-color: transparent;\n",
              "      border-right-color: var(--fill-color);\n",
              "    }\n",
              "    80% {\n",
              "      border-color: transparent;\n",
              "      border-right-color: var(--fill-color);\n",
              "      border-bottom-color: var(--fill-color);\n",
              "    }\n",
              "    90% {\n",
              "      border-color: transparent;\n",
              "      border-bottom-color: var(--fill-color);\n",
              "    }\n",
              "  }\n",
              "</style>\n",
              "\n",
              "  <script>\n",
              "    async function quickchart(key) {\n",
              "      const quickchartButtonEl =\n",
              "        document.querySelector('#' + key + ' button');\n",
              "      quickchartButtonEl.disabled = true;  // To prevent multiple clicks.\n",
              "      quickchartButtonEl.classList.add('colab-df-spinner');\n",
              "      try {\n",
              "        const charts = await google.colab.kernel.invokeFunction(\n",
              "            'suggestCharts', [key], {});\n",
              "      } catch (error) {\n",
              "        console.error('Error during call to suggestCharts:', error);\n",
              "      }\n",
              "      quickchartButtonEl.classList.remove('colab-df-spinner');\n",
              "      quickchartButtonEl.classList.add('colab-df-quickchart-complete');\n",
              "    }\n",
              "    (() => {\n",
              "      let quickchartButtonEl =\n",
              "        document.querySelector('#df-9f2e6ea1-c036-45ea-85f3-cf5c6836017d button');\n",
              "      quickchartButtonEl.style.display =\n",
              "        google.colab.kernel.accessAllowed ? 'block' : 'none';\n",
              "    })();\n",
              "  </script>\n",
              "</div>\n",
              "    </div>\n",
              "  </div>\n"
            ]
          },
          "metadata": {},
          "execution_count": 6
        }
      ],
      "source": [
        "df.head()"
      ]
    },
    {
      "cell_type": "code",
      "execution_count": 7,
      "metadata": {
        "id": "tzIVWdXVBUjG"
      },
      "outputs": [],
      "source": [
        "#selecting the required columns\n",
        "df= df[['Req_Finish_Fabrics', 'Fabric_Allowance','Rec_Beam_length(yds)', 'Shrink_allow', 'Req_grey_fabric',\n",
        "    'Req_beam_length(yds)', 'warp_count',  'weft_count','epi', 'ppi', 'Rejection']]"
      ]
    },
    {
      "cell_type": "code",
      "execution_count": 8,
      "metadata": {
        "id": "Th9MOdU2BUoA"
      },
      "outputs": [],
      "source": [
        "#dependant and independent variables\n",
        "X = df.copy()\n",
        "y = X.pop('Rejection')"
      ]
    },
    {
      "cell_type": "code",
      "execution_count": 9,
      "metadata": {
        "id": "E9nZz_oiBmY9"
      },
      "outputs": [],
      "source": [
        "#train test split\n",
        "X_train, X_test, y_train, y_test = train_test_split(X,y,test_size=0.2, random_state=0)"
      ]
    },
    {
      "cell_type": "code",
      "source": [
        "def label_encoding(x):\n",
        "    def resultant_count(x1,x2):\n",
        "        return int( (x1*x2)/(x1+x2) )\n",
        "    if x == 'double_80':\n",
        "        return resultant_count(80,80)\n",
        "    elif x == 'double_40':\n",
        "        return resultant_count(40,40)\n",
        "    else:\n",
        "        return int(x)"
      ],
      "metadata": {
        "id": "hJRm-7MeHPQI"
      },
      "execution_count": 10,
      "outputs": []
    },
    {
      "cell_type": "code",
      "source": [
        "X_train['warp_count']= X_train['warp_count'].apply(lambda x: label_encoding(x))\n",
        "X_test['warp_count'] = X_test['warp_count'].apply(lambda x: label_encoding(x))"
      ],
      "metadata": {
        "id": "FYPEid-ZG3FQ"
      },
      "execution_count": 11,
      "outputs": []
    },
    {
      "cell_type": "code",
      "source": [
        "# # scoring = make_scorer(r2_score)\n",
        "# g_cv = GridSearchCV(DecisionTreeRegressor(random_state=0),\n",
        "#               param_grid= dt_params, cv=5, refit=True)\n",
        "\n",
        "# g_cv.fit(X_train, y_train)\n",
        "# g_cv.best_params_\n",
        "\n",
        "# result = g_cv.cv_results_\n",
        "# # print(result)\n",
        "# r2_score(y_test, g_cv.best_estimator_.predict(X_test))"
      ],
      "metadata": {
        "id": "4qiRZBZSOUiP"
      },
      "execution_count": 12,
      "outputs": []
    },
    {
      "cell_type": "code",
      "source": [],
      "metadata": {
        "id": "M1Cjt92YVOk6"
      },
      "execution_count": 12,
      "outputs": []
    },
    {
      "cell_type": "code",
      "source": [
        "# implemting Randomized Search CV\n",
        "def calculate_gridcv(model,params, X_train, y_train,X_test, y_test, cv,n_iter):\n",
        "    gdcv = RandomizedSearchCV(estimator=model,param_distributions=params, n_iter= n_iter, cv=cv, n_jobs=-1)\n",
        "    gdcv.fit(X_train, y_train)\n",
        "    best_model= gdcv.best_estimator_\n",
        "    y_pred = gdcv.predict(X_test)\n",
        "    score = r2_score(y_test, y_pred)\n",
        "    best_estimator = gdcv.best_estimator_\n",
        "    return [best_model, y_pred, score, best_estimator]\n",
        "\n",
        "\n",
        "model_to_train = [RandomForestRegressor(), lightgbm.LGBMRegressor(), XGBRegressor(),\n",
        "                  KNeighborsRegressor(), DecisionTreeRegressor() ]\n",
        "\n",
        "grid_parameters = [\n",
        "    {#random forest\n",
        "        'n_estimators': [100, 200, 300, 400, 500],\n",
        "'criterion': ['squared_error', 'absolute_error', 'friedman_mse', 'poisson'],\n",
        "          'max_features':['sqrt', 'log2', None]},\n",
        "\n",
        "  #Lightgbm\n",
        " {'boosting_type': ['gbdt','dart' ], 'num_leaves': [31, 50,60],\n",
        "           'learning_rate':[0.1, 0.01],'n_estimators': [100, 200, 300],\n",
        "           'importance_type': ['split', 'gain']},\n",
        "\n",
        "{\n",
        "    #XGboost\n",
        "    'n_estimators':[50,100,200, 300,400 ],  'learning_rate':[0.1, 0.3, 0.5, 0.8] ,\n",
        "          'booster': ['gbtree', 'gblinear', 'dart'],'max_depth': [1, 2,3],\n",
        "         'sampling_method': ['uniform', 'gradient_based' ], 'gamma': [0, 0.01,0.5, 0.9 ], 'grow_policy' :['depthwise', 'lossguide']  },\n",
        "\n",
        "    {#KNeighborsRegressor\n",
        "        'n_neighbors': [5,10, 15,20], 'weights':['uniform', 'distance'], 'algorithm': ['auto', 'ball_tree', 'kd_tree', 'brute']},\n",
        "\n",
        "    { #Decison Tree\n",
        "    'criterion':['squared_error'], 'splitter': ['best', 'random'],\n",
        "    'min_samples_leaf': [1,2], 'min_weight_fraction_leaf': np.arange(0.0, 1.0, 0.1) , 'max_features': ['auto', 'sqrt', 'log2']\n",
        "}]"
      ],
      "metadata": {
        "id": "CzzBoc-_Xap-"
      },
      "execution_count": 13,
      "outputs": []
    },
    {
      "cell_type": "code",
      "source": [
        "model_pred_scores =[]\n",
        "for i, model in enumerate(model_to_train):\n",
        "    params = grid_parameters[i]\n",
        "    results = calculate_gridcv(model, params, X_train, y_train, X_test, y_test, 5, 8)\n",
        "    model_pred_scores.append(results)\n"
      ],
      "metadata": {
        "colab": {
          "base_uri": "https://localhost:8080/"
        },
        "id": "BDjADlfvGM_u",
        "outputId": "baaae805-1080-42ab-bfb6-bb6717aa9356"
      },
      "execution_count": 14,
      "outputs": [
        {
          "output_type": "stream",
          "name": "stdout",
          "text": [
            "[LightGBM] [Warning] Auto-choosing col-wise multi-threading, the overhead of testing was 0.003035 seconds.\n",
            "You can set `force_col_wise=true` to remove the overhead.\n",
            "[LightGBM] [Info] Total Bins 1270\n",
            "[LightGBM] [Info] Number of data points in the train set: 17608, number of used features: 10\n",
            "[LightGBM] [Info] Start training from score 55.570593\n"
          ]
        },
        {
          "output_type": "stream",
          "name": "stderr",
          "text": [
            "/usr/local/lib/python3.10/dist-packages/sklearn/model_selection/_validation.py:378: FitFailedWarning: \n",
            "15 fits failed out of a total of 40.\n",
            "The score on these train-test partitions for these parameters will be set to nan.\n",
            "If these failures are not expected, you can try to debug them by setting error_score='raise'.\n",
            "\n",
            "Below are more details about the failures:\n",
            "--------------------------------------------------------------------------------\n",
            "10 fits failed with the following error:\n",
            "Traceback (most recent call last):\n",
            "  File \"/usr/local/lib/python3.10/dist-packages/sklearn/model_selection/_validation.py\", line 686, in _fit_and_score\n",
            "    estimator.fit(X_train, y_train, **fit_params)\n",
            "  File \"/usr/local/lib/python3.10/dist-packages/sklearn/tree/_classes.py\", line 1247, in fit\n",
            "    super().fit(\n",
            "  File \"/usr/local/lib/python3.10/dist-packages/sklearn/tree/_classes.py\", line 177, in fit\n",
            "    self._validate_params()\n",
            "  File \"/usr/local/lib/python3.10/dist-packages/sklearn/base.py\", line 600, in _validate_params\n",
            "    validate_parameter_constraints(\n",
            "  File \"/usr/local/lib/python3.10/dist-packages/sklearn/utils/_param_validation.py\", line 97, in validate_parameter_constraints\n",
            "    raise InvalidParameterError(\n",
            "sklearn.utils._param_validation.InvalidParameterError: The 'min_weight_fraction_leaf' parameter of DecisionTreeRegressor must be a float in the range [0.0, 0.5]. Got 0.6000000000000001 instead.\n",
            "\n",
            "--------------------------------------------------------------------------------\n",
            "5 fits failed with the following error:\n",
            "Traceback (most recent call last):\n",
            "  File \"/usr/local/lib/python3.10/dist-packages/sklearn/model_selection/_validation.py\", line 686, in _fit_and_score\n",
            "    estimator.fit(X_train, y_train, **fit_params)\n",
            "  File \"/usr/local/lib/python3.10/dist-packages/sklearn/tree/_classes.py\", line 1247, in fit\n",
            "    super().fit(\n",
            "  File \"/usr/local/lib/python3.10/dist-packages/sklearn/tree/_classes.py\", line 177, in fit\n",
            "    self._validate_params()\n",
            "  File \"/usr/local/lib/python3.10/dist-packages/sklearn/base.py\", line 600, in _validate_params\n",
            "    validate_parameter_constraints(\n",
            "  File \"/usr/local/lib/python3.10/dist-packages/sklearn/utils/_param_validation.py\", line 97, in validate_parameter_constraints\n",
            "    raise InvalidParameterError(\n",
            "sklearn.utils._param_validation.InvalidParameterError: The 'min_weight_fraction_leaf' parameter of DecisionTreeRegressor must be a float in the range [0.0, 0.5]. Got 0.9 instead.\n",
            "\n",
            "  warnings.warn(some_fits_failed_message, FitFailedWarning)\n",
            "/usr/local/lib/python3.10/dist-packages/sklearn/model_selection/_search.py:952: UserWarning: One or more of the test scores are non-finite: [ 6.61147248e-02             nan             nan             nan\n",
            "  3.91318316e-03  2.05919436e-03 -4.34650747e-04  9.43511086e-01]\n",
            "  warnings.warn(\n"
          ]
        }
      ]
    },
    {
      "cell_type": "code",
      "execution_count": 16,
      "metadata": {
        "id": "5TnBpO5UP8Fj",
        "colab": {
          "base_uri": "https://localhost:8080/"
        },
        "outputId": "228ae9ec-9e77-4ea8-dd2a-557439a669a9"
      },
      "outputs": [
        {
          "output_type": "stream",
          "name": "stdout",
          "text": [
            "Model: RandomForestRegressor, Score: 0.9570022662435109, best_model:RandomForestRegressor(criterion='friedman_mse', max_features='log2',\n",
            "                      n_estimators=300)\n",
            "Model: LGBMRegressor, Score: 0.9435122712982089, best_model:LGBMRegressor(n_estimators=200)\n",
            "Model: XGBRegressor, Score: 0.9462570961810853, best_model:XGBRegressor(base_score=None, booster='gbtree', callbacks=None,\n",
            "             colsample_bylevel=None, colsample_bynode=None,\n",
            "             colsample_bytree=None, early_stopping_rounds=None,\n",
            "             enable_categorical=False, eval_metric=None, feature_types=None,\n",
            "             gamma=0.01, gpu_id=None, grow_policy='lossguide',\n",
            "             importance_type=None, interaction_constraints=None,\n",
            "             learning_rate=0.8, max_bin=None, max_cat_threshold=None,\n",
            "             max_cat_to_onehot=None, max_delta_step=None, max_depth=3,\n",
            "             max_leaves=None, min_child_weight=None, missing=nan,\n",
            "             monotone_constraints=None, n_estimators=100, n_jobs=None,\n",
            "             num_parallel_tree=None, predictor=None, random_state=None, ...)\n",
            "Model: KNeighborsRegressor, Score: 0.9469370286119451, best_model:KNeighborsRegressor(algorithm='ball_tree', n_neighbors=10, weights='distance')\n",
            "Model: DecisionTreeRegressor, Score: 0.957143014390851, best_model:DecisionTreeRegressor(max_features='log2', splitter='random')\n"
          ]
        }
      ],
      "source": [
        "for result in model_pred_scores:\n",
        "    print(f'Model: {type(result[0]).__name__}, Score: {result[2]}, best_model:{result[3]}')"
      ]
    },
    {
      "cell_type": "code",
      "execution_count": 17,
      "metadata": {
        "id": "yOKgrGdBK8hK",
        "colab": {
          "base_uri": "https://localhost:8080/"
        },
        "outputId": "0a713c05-ce83-4eb3-884f-8bda55120f70"
      },
      "outputs": [
        {
          "output_type": "execute_result",
          "data": {
            "text/plain": [
              "[[RandomForestRegressor(criterion='friedman_mse', max_features='log2',\n",
              "                        n_estimators=300),\n",
              "  array([  7.62803853,  11.69750003,  17.82066976, ...,  28.38247243,\n",
              "          11.07355663, 112.19539167]),\n",
              "  0.9570022662435109,\n",
              "  RandomForestRegressor(criterion='friedman_mse', max_features='log2',\n",
              "                        n_estimators=300)],\n",
              " [LGBMRegressor(n_estimators=200),\n",
              "  array([ 23.59053842,  26.68581896,  11.72493579, ...,  33.89104689,\n",
              "          13.4883884 , 161.71249979]),\n",
              "  0.9435122712982089,\n",
              "  LGBMRegressor(n_estimators=200)],\n",
              " [XGBRegressor(base_score=None, booster='gbtree', callbacks=None,\n",
              "               colsample_bylevel=None, colsample_bynode=None,\n",
              "               colsample_bytree=None, early_stopping_rounds=None,\n",
              "               enable_categorical=False, eval_metric=None, feature_types=None,\n",
              "               gamma=0.01, gpu_id=None, grow_policy='lossguide',\n",
              "               importance_type=None, interaction_constraints=None,\n",
              "               learning_rate=0.8, max_bin=None, max_cat_threshold=None,\n",
              "               max_cat_to_onehot=None, max_delta_step=None, max_depth=3,\n",
              "               max_leaves=None, min_child_weight=None, missing=nan,\n",
              "               monotone_constraints=None, n_estimators=100, n_jobs=None,\n",
              "               num_parallel_tree=None, predictor=None, random_state=None, ...),\n",
              "  array([ 20.929092,  23.07125 ,   8.322097, ...,  39.141857,  14.029622,\n",
              "         199.83324 ], dtype=float32),\n",
              "  0.9462570961810853,\n",
              "  XGBRegressor(base_score=None, booster='gbtree', callbacks=None,\n",
              "               colsample_bylevel=None, colsample_bynode=None,\n",
              "               colsample_bytree=None, early_stopping_rounds=None,\n",
              "               enable_categorical=False, eval_metric=None, feature_types=None,\n",
              "               gamma=0.01, gpu_id=None, grow_policy='lossguide',\n",
              "               importance_type=None, interaction_constraints=None,\n",
              "               learning_rate=0.8, max_bin=None, max_cat_threshold=None,\n",
              "               max_cat_to_onehot=None, max_delta_step=None, max_depth=3,\n",
              "               max_leaves=None, min_child_weight=None, missing=nan,\n",
              "               monotone_constraints=None, n_estimators=100, n_jobs=None,\n",
              "               num_parallel_tree=None, predictor=None, random_state=None, ...)],\n",
              " [KNeighborsRegressor(algorithm='ball_tree', n_neighbors=10, weights='distance'),\n",
              "  array([ 4.       , 11.9      , 18.3      , ..., 31.       , 11.3      ,\n",
              "         82.2129387]),\n",
              "  0.9469370286119451,\n",
              "  KNeighborsRegressor(algorithm='ball_tree', n_neighbors=10, weights='distance')],\n",
              " [DecisionTreeRegressor(max_features='log2', splitter='random'),\n",
              "  array([ 4.        , 11.9       , 17.84      , ..., 28.48837209,\n",
              "         11.0952381 , 21.        ]),\n",
              "  0.957143014390851,\n",
              "  DecisionTreeRegressor(max_features='log2', splitter='random')]]"
            ]
          },
          "metadata": {},
          "execution_count": 17
        }
      ],
      "source": [
        "model_pred_scores"
      ]
    }
  ],
  "metadata": {
    "accelerator": "TPU",
    "colab": {
      "provenance": [],
      "include_colab_link": true
    },
    "kernelspec": {
      "display_name": "Python 3",
      "name": "python3"
    },
    "language_info": {
      "name": "python"
    }
  },
  "nbformat": 4,
  "nbformat_minor": 0
}